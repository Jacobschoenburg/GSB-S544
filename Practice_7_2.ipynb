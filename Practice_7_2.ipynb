{
  "nbformat": 4,
  "nbformat_minor": 0,
  "metadata": {
    "colab": {
      "provenance": []
    },
    "kernelspec": {
      "name": "python3",
      "display_name": "Python 3"
    },
    "language_info": {
      "name": "python"
    }
  },
  "cells": [
    {
      "cell_type": "code",
      "execution_count": null,
      "metadata": {
        "id": "PlKZaPJOF_p0"
      },
      "outputs": [],
      "source": [
        "import pandas as pd\n",
        "import numpy as np\n",
        "import plotnine as p9\n",
        "from sklearn.pipeline import Pipeline\n",
        "from sklearn.compose import make_column_selector, ColumnTransformer\n",
        "from sklearn.preprocessing import StandardScaler, OneHotEncoder, PolynomialFeatures\n",
        "from sklearn.linear_model import LinearRegression, Ridge, Lasso, ElasticNet\n",
        "from sklearn.model_selection import train_test_split, cross_val_score\n",
        "from sklearn.metrics import r2_score"
      ]
    },
    {
      "cell_type": "code",
      "source": [
        "ames = pd.read_csv(\"/content/AmesHousing.csv\")\n",
        "\n",
        "# Get rid of columns with mostly NaN values\n",
        "good_cols = ames.isna().sum() < 100\n",
        "ames = ames.loc[:,good_cols]\n",
        "\n",
        "# Drop other NAs\n",
        "ames = ames.dropna()\n",
        "ames"
      ],
      "metadata": {
        "colab": {
          "base_uri": "https://localhost:8080/",
          "height": 461
        },
        "id": "AZ_lR3l-GFHg",
        "outputId": "53899212-6d7f-485e-ad81-12c9e45ffb00"
      },
      "execution_count": null,
      "outputs": [
        {
          "output_type": "execute_result",
          "data": {
            "text/plain": [
              "      Order        PID  MS SubClass MS Zoning  Lot Area Street Lot Shape  \\\n",
              "0         1  526301100           20        RL     31770   Pave       IR1   \n",
              "1         2  526350040           20        RH     11622   Pave       Reg   \n",
              "2         3  526351010           20        RL     14267   Pave       IR1   \n",
              "3         4  526353030           20        RL     11160   Pave       Reg   \n",
              "4         5  527105010           60        RL     13830   Pave       IR1   \n",
              "...     ...        ...          ...       ...       ...    ...       ...   \n",
              "2925   2926  923275080           80        RL      7937   Pave       IR1   \n",
              "2926   2927  923276100           20        RL      8885   Pave       IR1   \n",
              "2927   2928  923400125           85        RL     10441   Pave       Reg   \n",
              "2928   2929  924100070           20        RL     10010   Pave       Reg   \n",
              "2929   2930  924151050           60        RL      9627   Pave       Reg   \n",
              "\n",
              "     Land Contour Utilities Lot Config  ... Enclosed Porch 3Ssn Porch  \\\n",
              "0             Lvl    AllPub     Corner  ...              0          0   \n",
              "1             Lvl    AllPub     Inside  ...              0          0   \n",
              "2             Lvl    AllPub     Corner  ...              0          0   \n",
              "3             Lvl    AllPub     Corner  ...              0          0   \n",
              "4             Lvl    AllPub     Inside  ...              0          0   \n",
              "...           ...       ...        ...  ...            ...        ...   \n",
              "2925          Lvl    AllPub    CulDSac  ...              0          0   \n",
              "2926          Low    AllPub     Inside  ...              0          0   \n",
              "2927          Lvl    AllPub     Inside  ...              0          0   \n",
              "2928          Lvl    AllPub     Inside  ...              0          0   \n",
              "2929          Lvl    AllPub     Inside  ...              0          0   \n",
              "\n",
              "     Screen Porch Pool Area Misc Val Mo Sold  Yr Sold  Sale Type  \\\n",
              "0               0         0        0       5     2010        WD    \n",
              "1             120         0        0       6     2010        WD    \n",
              "2               0         0    12500       6     2010        WD    \n",
              "3               0         0        0       4     2010        WD    \n",
              "4               0         0        0       3     2010        WD    \n",
              "...           ...       ...      ...     ...      ...        ...   \n",
              "2925            0         0        0       3     2006        WD    \n",
              "2926            0         0        0       6     2006        WD    \n",
              "2927            0         0      700       7     2006        WD    \n",
              "2928            0         0        0       4     2006        WD    \n",
              "2929            0         0        0      11     2006        WD    \n",
              "\n",
              "      Sale Condition  SalePrice  \n",
              "0             Normal     215000  \n",
              "1             Normal     105000  \n",
              "2             Normal     172000  \n",
              "3             Normal     244000  \n",
              "4             Normal     189900  \n",
              "...              ...        ...  \n",
              "2925          Normal     142500  \n",
              "2926          Normal     131000  \n",
              "2927          Normal     132000  \n",
              "2928          Normal     170000  \n",
              "2929          Normal     188000  \n",
              "\n",
              "[2821 rows x 71 columns]"
            ],
            "text/html": [
              "\n",
              "  <div id=\"df-11ab93ab-7002-4848-a823-3a2c2fb8d549\" class=\"colab-df-container\">\n",
              "    <div>\n",
              "<style scoped>\n",
              "    .dataframe tbody tr th:only-of-type {\n",
              "        vertical-align: middle;\n",
              "    }\n",
              "\n",
              "    .dataframe tbody tr th {\n",
              "        vertical-align: top;\n",
              "    }\n",
              "\n",
              "    .dataframe thead th {\n",
              "        text-align: right;\n",
              "    }\n",
              "</style>\n",
              "<table border=\"1\" class=\"dataframe\">\n",
              "  <thead>\n",
              "    <tr style=\"text-align: right;\">\n",
              "      <th></th>\n",
              "      <th>Order</th>\n",
              "      <th>PID</th>\n",
              "      <th>MS SubClass</th>\n",
              "      <th>MS Zoning</th>\n",
              "      <th>Lot Area</th>\n",
              "      <th>Street</th>\n",
              "      <th>Lot Shape</th>\n",
              "      <th>Land Contour</th>\n",
              "      <th>Utilities</th>\n",
              "      <th>Lot Config</th>\n",
              "      <th>...</th>\n",
              "      <th>Enclosed Porch</th>\n",
              "      <th>3Ssn Porch</th>\n",
              "      <th>Screen Porch</th>\n",
              "      <th>Pool Area</th>\n",
              "      <th>Misc Val</th>\n",
              "      <th>Mo Sold</th>\n",
              "      <th>Yr Sold</th>\n",
              "      <th>Sale Type</th>\n",
              "      <th>Sale Condition</th>\n",
              "      <th>SalePrice</th>\n",
              "    </tr>\n",
              "  </thead>\n",
              "  <tbody>\n",
              "    <tr>\n",
              "      <th>0</th>\n",
              "      <td>1</td>\n",
              "      <td>526301100</td>\n",
              "      <td>20</td>\n",
              "      <td>RL</td>\n",
              "      <td>31770</td>\n",
              "      <td>Pave</td>\n",
              "      <td>IR1</td>\n",
              "      <td>Lvl</td>\n",
              "      <td>AllPub</td>\n",
              "      <td>Corner</td>\n",
              "      <td>...</td>\n",
              "      <td>0</td>\n",
              "      <td>0</td>\n",
              "      <td>0</td>\n",
              "      <td>0</td>\n",
              "      <td>0</td>\n",
              "      <td>5</td>\n",
              "      <td>2010</td>\n",
              "      <td>WD</td>\n",
              "      <td>Normal</td>\n",
              "      <td>215000</td>\n",
              "    </tr>\n",
              "    <tr>\n",
              "      <th>1</th>\n",
              "      <td>2</td>\n",
              "      <td>526350040</td>\n",
              "      <td>20</td>\n",
              "      <td>RH</td>\n",
              "      <td>11622</td>\n",
              "      <td>Pave</td>\n",
              "      <td>Reg</td>\n",
              "      <td>Lvl</td>\n",
              "      <td>AllPub</td>\n",
              "      <td>Inside</td>\n",
              "      <td>...</td>\n",
              "      <td>0</td>\n",
              "      <td>0</td>\n",
              "      <td>120</td>\n",
              "      <td>0</td>\n",
              "      <td>0</td>\n",
              "      <td>6</td>\n",
              "      <td>2010</td>\n",
              "      <td>WD</td>\n",
              "      <td>Normal</td>\n",
              "      <td>105000</td>\n",
              "    </tr>\n",
              "    <tr>\n",
              "      <th>2</th>\n",
              "      <td>3</td>\n",
              "      <td>526351010</td>\n",
              "      <td>20</td>\n",
              "      <td>RL</td>\n",
              "      <td>14267</td>\n",
              "      <td>Pave</td>\n",
              "      <td>IR1</td>\n",
              "      <td>Lvl</td>\n",
              "      <td>AllPub</td>\n",
              "      <td>Corner</td>\n",
              "      <td>...</td>\n",
              "      <td>0</td>\n",
              "      <td>0</td>\n",
              "      <td>0</td>\n",
              "      <td>0</td>\n",
              "      <td>12500</td>\n",
              "      <td>6</td>\n",
              "      <td>2010</td>\n",
              "      <td>WD</td>\n",
              "      <td>Normal</td>\n",
              "      <td>172000</td>\n",
              "    </tr>\n",
              "    <tr>\n",
              "      <th>3</th>\n",
              "      <td>4</td>\n",
              "      <td>526353030</td>\n",
              "      <td>20</td>\n",
              "      <td>RL</td>\n",
              "      <td>11160</td>\n",
              "      <td>Pave</td>\n",
              "      <td>Reg</td>\n",
              "      <td>Lvl</td>\n",
              "      <td>AllPub</td>\n",
              "      <td>Corner</td>\n",
              "      <td>...</td>\n",
              "      <td>0</td>\n",
              "      <td>0</td>\n",
              "      <td>0</td>\n",
              "      <td>0</td>\n",
              "      <td>0</td>\n",
              "      <td>4</td>\n",
              "      <td>2010</td>\n",
              "      <td>WD</td>\n",
              "      <td>Normal</td>\n",
              "      <td>244000</td>\n",
              "    </tr>\n",
              "    <tr>\n",
              "      <th>4</th>\n",
              "      <td>5</td>\n",
              "      <td>527105010</td>\n",
              "      <td>60</td>\n",
              "      <td>RL</td>\n",
              "      <td>13830</td>\n",
              "      <td>Pave</td>\n",
              "      <td>IR1</td>\n",
              "      <td>Lvl</td>\n",
              "      <td>AllPub</td>\n",
              "      <td>Inside</td>\n",
              "      <td>...</td>\n",
              "      <td>0</td>\n",
              "      <td>0</td>\n",
              "      <td>0</td>\n",
              "      <td>0</td>\n",
              "      <td>0</td>\n",
              "      <td>3</td>\n",
              "      <td>2010</td>\n",
              "      <td>WD</td>\n",
              "      <td>Normal</td>\n",
              "      <td>189900</td>\n",
              "    </tr>\n",
              "    <tr>\n",
              "      <th>...</th>\n",
              "      <td>...</td>\n",
              "      <td>...</td>\n",
              "      <td>...</td>\n",
              "      <td>...</td>\n",
              "      <td>...</td>\n",
              "      <td>...</td>\n",
              "      <td>...</td>\n",
              "      <td>...</td>\n",
              "      <td>...</td>\n",
              "      <td>...</td>\n",
              "      <td>...</td>\n",
              "      <td>...</td>\n",
              "      <td>...</td>\n",
              "      <td>...</td>\n",
              "      <td>...</td>\n",
              "      <td>...</td>\n",
              "      <td>...</td>\n",
              "      <td>...</td>\n",
              "      <td>...</td>\n",
              "      <td>...</td>\n",
              "      <td>...</td>\n",
              "    </tr>\n",
              "    <tr>\n",
              "      <th>2925</th>\n",
              "      <td>2926</td>\n",
              "      <td>923275080</td>\n",
              "      <td>80</td>\n",
              "      <td>RL</td>\n",
              "      <td>7937</td>\n",
              "      <td>Pave</td>\n",
              "      <td>IR1</td>\n",
              "      <td>Lvl</td>\n",
              "      <td>AllPub</td>\n",
              "      <td>CulDSac</td>\n",
              "      <td>...</td>\n",
              "      <td>0</td>\n",
              "      <td>0</td>\n",
              "      <td>0</td>\n",
              "      <td>0</td>\n",
              "      <td>0</td>\n",
              "      <td>3</td>\n",
              "      <td>2006</td>\n",
              "      <td>WD</td>\n",
              "      <td>Normal</td>\n",
              "      <td>142500</td>\n",
              "    </tr>\n",
              "    <tr>\n",
              "      <th>2926</th>\n",
              "      <td>2927</td>\n",
              "      <td>923276100</td>\n",
              "      <td>20</td>\n",
              "      <td>RL</td>\n",
              "      <td>8885</td>\n",
              "      <td>Pave</td>\n",
              "      <td>IR1</td>\n",
              "      <td>Low</td>\n",
              "      <td>AllPub</td>\n",
              "      <td>Inside</td>\n",
              "      <td>...</td>\n",
              "      <td>0</td>\n",
              "      <td>0</td>\n",
              "      <td>0</td>\n",
              "      <td>0</td>\n",
              "      <td>0</td>\n",
              "      <td>6</td>\n",
              "      <td>2006</td>\n",
              "      <td>WD</td>\n",
              "      <td>Normal</td>\n",
              "      <td>131000</td>\n",
              "    </tr>\n",
              "    <tr>\n",
              "      <th>2927</th>\n",
              "      <td>2928</td>\n",
              "      <td>923400125</td>\n",
              "      <td>85</td>\n",
              "      <td>RL</td>\n",
              "      <td>10441</td>\n",
              "      <td>Pave</td>\n",
              "      <td>Reg</td>\n",
              "      <td>Lvl</td>\n",
              "      <td>AllPub</td>\n",
              "      <td>Inside</td>\n",
              "      <td>...</td>\n",
              "      <td>0</td>\n",
              "      <td>0</td>\n",
              "      <td>0</td>\n",
              "      <td>0</td>\n",
              "      <td>700</td>\n",
              "      <td>7</td>\n",
              "      <td>2006</td>\n",
              "      <td>WD</td>\n",
              "      <td>Normal</td>\n",
              "      <td>132000</td>\n",
              "    </tr>\n",
              "    <tr>\n",
              "      <th>2928</th>\n",
              "      <td>2929</td>\n",
              "      <td>924100070</td>\n",
              "      <td>20</td>\n",
              "      <td>RL</td>\n",
              "      <td>10010</td>\n",
              "      <td>Pave</td>\n",
              "      <td>Reg</td>\n",
              "      <td>Lvl</td>\n",
              "      <td>AllPub</td>\n",
              "      <td>Inside</td>\n",
              "      <td>...</td>\n",
              "      <td>0</td>\n",
              "      <td>0</td>\n",
              "      <td>0</td>\n",
              "      <td>0</td>\n",
              "      <td>0</td>\n",
              "      <td>4</td>\n",
              "      <td>2006</td>\n",
              "      <td>WD</td>\n",
              "      <td>Normal</td>\n",
              "      <td>170000</td>\n",
              "    </tr>\n",
              "    <tr>\n",
              "      <th>2929</th>\n",
              "      <td>2930</td>\n",
              "      <td>924151050</td>\n",
              "      <td>60</td>\n",
              "      <td>RL</td>\n",
              "      <td>9627</td>\n",
              "      <td>Pave</td>\n",
              "      <td>Reg</td>\n",
              "      <td>Lvl</td>\n",
              "      <td>AllPub</td>\n",
              "      <td>Inside</td>\n",
              "      <td>...</td>\n",
              "      <td>0</td>\n",
              "      <td>0</td>\n",
              "      <td>0</td>\n",
              "      <td>0</td>\n",
              "      <td>0</td>\n",
              "      <td>11</td>\n",
              "      <td>2006</td>\n",
              "      <td>WD</td>\n",
              "      <td>Normal</td>\n",
              "      <td>188000</td>\n",
              "    </tr>\n",
              "  </tbody>\n",
              "</table>\n",
              "<p>2821 rows × 71 columns</p>\n",
              "</div>\n",
              "    <div class=\"colab-df-buttons\">\n",
              "\n",
              "  <div class=\"colab-df-container\">\n",
              "    <button class=\"colab-df-convert\" onclick=\"convertToInteractive('df-11ab93ab-7002-4848-a823-3a2c2fb8d549')\"\n",
              "            title=\"Convert this dataframe to an interactive table.\"\n",
              "            style=\"display:none;\">\n",
              "\n",
              "  <svg xmlns=\"http://www.w3.org/2000/svg\" height=\"24px\" viewBox=\"0 -960 960 960\">\n",
              "    <path d=\"M120-120v-720h720v720H120Zm60-500h600v-160H180v160Zm220 220h160v-160H400v160Zm0 220h160v-160H400v160ZM180-400h160v-160H180v160Zm440 0h160v-160H620v160ZM180-180h160v-160H180v160Zm440 0h160v-160H620v160Z\"/>\n",
              "  </svg>\n",
              "    </button>\n",
              "\n",
              "  <style>\n",
              "    .colab-df-container {\n",
              "      display:flex;\n",
              "      gap: 12px;\n",
              "    }\n",
              "\n",
              "    .colab-df-convert {\n",
              "      background-color: #E8F0FE;\n",
              "      border: none;\n",
              "      border-radius: 50%;\n",
              "      cursor: pointer;\n",
              "      display: none;\n",
              "      fill: #1967D2;\n",
              "      height: 32px;\n",
              "      padding: 0 0 0 0;\n",
              "      width: 32px;\n",
              "    }\n",
              "\n",
              "    .colab-df-convert:hover {\n",
              "      background-color: #E2EBFA;\n",
              "      box-shadow: 0px 1px 2px rgba(60, 64, 67, 0.3), 0px 1px 3px 1px rgba(60, 64, 67, 0.15);\n",
              "      fill: #174EA6;\n",
              "    }\n",
              "\n",
              "    .colab-df-buttons div {\n",
              "      margin-bottom: 4px;\n",
              "    }\n",
              "\n",
              "    [theme=dark] .colab-df-convert {\n",
              "      background-color: #3B4455;\n",
              "      fill: #D2E3FC;\n",
              "    }\n",
              "\n",
              "    [theme=dark] .colab-df-convert:hover {\n",
              "      background-color: #434B5C;\n",
              "      box-shadow: 0px 1px 3px 1px rgba(0, 0, 0, 0.15);\n",
              "      filter: drop-shadow(0px 1px 2px rgba(0, 0, 0, 0.3));\n",
              "      fill: #FFFFFF;\n",
              "    }\n",
              "  </style>\n",
              "\n",
              "    <script>\n",
              "      const buttonEl =\n",
              "        document.querySelector('#df-11ab93ab-7002-4848-a823-3a2c2fb8d549 button.colab-df-convert');\n",
              "      buttonEl.style.display =\n",
              "        google.colab.kernel.accessAllowed ? 'block' : 'none';\n",
              "\n",
              "      async function convertToInteractive(key) {\n",
              "        const element = document.querySelector('#df-11ab93ab-7002-4848-a823-3a2c2fb8d549');\n",
              "        const dataTable =\n",
              "          await google.colab.kernel.invokeFunction('convertToInteractive',\n",
              "                                                    [key], {});\n",
              "        if (!dataTable) return;\n",
              "\n",
              "        const docLinkHtml = 'Like what you see? Visit the ' +\n",
              "          '<a target=\"_blank\" href=https://colab.research.google.com/notebooks/data_table.ipynb>data table notebook</a>'\n",
              "          + ' to learn more about interactive tables.';\n",
              "        element.innerHTML = '';\n",
              "        dataTable['output_type'] = 'display_data';\n",
              "        await google.colab.output.renderOutput(dataTable, element);\n",
              "        const docLink = document.createElement('div');\n",
              "        docLink.innerHTML = docLinkHtml;\n",
              "        element.appendChild(docLink);\n",
              "      }\n",
              "    </script>\n",
              "  </div>\n",
              "\n",
              "\n",
              "<div id=\"df-46d23c72-1d03-44ff-8b87-a21152f6a228\">\n",
              "  <button class=\"colab-df-quickchart\" onclick=\"quickchart('df-46d23c72-1d03-44ff-8b87-a21152f6a228')\"\n",
              "            title=\"Suggest charts\"\n",
              "            style=\"display:none;\">\n",
              "\n",
              "<svg xmlns=\"http://www.w3.org/2000/svg\" height=\"24px\"viewBox=\"0 0 24 24\"\n",
              "     width=\"24px\">\n",
              "    <g>\n",
              "        <path d=\"M19 3H5c-1.1 0-2 .9-2 2v14c0 1.1.9 2 2 2h14c1.1 0 2-.9 2-2V5c0-1.1-.9-2-2-2zM9 17H7v-7h2v7zm4 0h-2V7h2v10zm4 0h-2v-4h2v4z\"/>\n",
              "    </g>\n",
              "</svg>\n",
              "  </button>\n",
              "\n",
              "<style>\n",
              "  .colab-df-quickchart {\n",
              "      --bg-color: #E8F0FE;\n",
              "      --fill-color: #1967D2;\n",
              "      --hover-bg-color: #E2EBFA;\n",
              "      --hover-fill-color: #174EA6;\n",
              "      --disabled-fill-color: #AAA;\n",
              "      --disabled-bg-color: #DDD;\n",
              "  }\n",
              "\n",
              "  [theme=dark] .colab-df-quickchart {\n",
              "      --bg-color: #3B4455;\n",
              "      --fill-color: #D2E3FC;\n",
              "      --hover-bg-color: #434B5C;\n",
              "      --hover-fill-color: #FFFFFF;\n",
              "      --disabled-bg-color: #3B4455;\n",
              "      --disabled-fill-color: #666;\n",
              "  }\n",
              "\n",
              "  .colab-df-quickchart {\n",
              "    background-color: var(--bg-color);\n",
              "    border: none;\n",
              "    border-radius: 50%;\n",
              "    cursor: pointer;\n",
              "    display: none;\n",
              "    fill: var(--fill-color);\n",
              "    height: 32px;\n",
              "    padding: 0;\n",
              "    width: 32px;\n",
              "  }\n",
              "\n",
              "  .colab-df-quickchart:hover {\n",
              "    background-color: var(--hover-bg-color);\n",
              "    box-shadow: 0 1px 2px rgba(60, 64, 67, 0.3), 0 1px 3px 1px rgba(60, 64, 67, 0.15);\n",
              "    fill: var(--button-hover-fill-color);\n",
              "  }\n",
              "\n",
              "  .colab-df-quickchart-complete:disabled,\n",
              "  .colab-df-quickchart-complete:disabled:hover {\n",
              "    background-color: var(--disabled-bg-color);\n",
              "    fill: var(--disabled-fill-color);\n",
              "    box-shadow: none;\n",
              "  }\n",
              "\n",
              "  .colab-df-spinner {\n",
              "    border: 2px solid var(--fill-color);\n",
              "    border-color: transparent;\n",
              "    border-bottom-color: var(--fill-color);\n",
              "    animation:\n",
              "      spin 1s steps(1) infinite;\n",
              "  }\n",
              "\n",
              "  @keyframes spin {\n",
              "    0% {\n",
              "      border-color: transparent;\n",
              "      border-bottom-color: var(--fill-color);\n",
              "      border-left-color: var(--fill-color);\n",
              "    }\n",
              "    20% {\n",
              "      border-color: transparent;\n",
              "      border-left-color: var(--fill-color);\n",
              "      border-top-color: var(--fill-color);\n",
              "    }\n",
              "    30% {\n",
              "      border-color: transparent;\n",
              "      border-left-color: var(--fill-color);\n",
              "      border-top-color: var(--fill-color);\n",
              "      border-right-color: var(--fill-color);\n",
              "    }\n",
              "    40% {\n",
              "      border-color: transparent;\n",
              "      border-right-color: var(--fill-color);\n",
              "      border-top-color: var(--fill-color);\n",
              "    }\n",
              "    60% {\n",
              "      border-color: transparent;\n",
              "      border-right-color: var(--fill-color);\n",
              "    }\n",
              "    80% {\n",
              "      border-color: transparent;\n",
              "      border-right-color: var(--fill-color);\n",
              "      border-bottom-color: var(--fill-color);\n",
              "    }\n",
              "    90% {\n",
              "      border-color: transparent;\n",
              "      border-bottom-color: var(--fill-color);\n",
              "    }\n",
              "  }\n",
              "</style>\n",
              "\n",
              "  <script>\n",
              "    async function quickchart(key) {\n",
              "      const quickchartButtonEl =\n",
              "        document.querySelector('#' + key + ' button');\n",
              "      quickchartButtonEl.disabled = true;  // To prevent multiple clicks.\n",
              "      quickchartButtonEl.classList.add('colab-df-spinner');\n",
              "      try {\n",
              "        const charts = await google.colab.kernel.invokeFunction(\n",
              "            'suggestCharts', [key], {});\n",
              "      } catch (error) {\n",
              "        console.error('Error during call to suggestCharts:', error);\n",
              "      }\n",
              "      quickchartButtonEl.classList.remove('colab-df-spinner');\n",
              "      quickchartButtonEl.classList.add('colab-df-quickchart-complete');\n",
              "    }\n",
              "    (() => {\n",
              "      let quickchartButtonEl =\n",
              "        document.querySelector('#df-46d23c72-1d03-44ff-8b87-a21152f6a228 button');\n",
              "      quickchartButtonEl.style.display =\n",
              "        google.colab.kernel.accessAllowed ? 'block' : 'none';\n",
              "    })();\n",
              "  </script>\n",
              "</div>\n",
              "    </div>\n",
              "  </div>\n"
            ]
          },
          "metadata": {},
          "execution_count": 5
        }
      ]
    },
    {
      "cell_type": "code",
      "source": [
        "#Default Linear Regression\n",
        "X = ames.drop([\"SalePrice\", \"Order\", \"PID\"], axis = 1)\n",
        "y = ames[\"SalePrice\"]\n",
        "\n",
        "\n",
        "ct = ColumnTransformer(\n",
        "  [\n",
        "    (\"dummify\",\n",
        "    OneHotEncoder(sparse_output = False, handle_unknown='ignore'),\n",
        "    make_column_selector(dtype_include=object)),\n",
        "    (\"standardize\",\n",
        "    StandardScaler(),\n",
        "    make_column_selector(dtype_include=np.number))\n",
        "  ],\n",
        "  remainder = \"passthrough\"\n",
        ")\n",
        "\n",
        "lr_pipeline_1 = Pipeline(\n",
        "  [(\"preprocessing\", ct),\n",
        "  (\"linear_regression\", LinearRegression())]\n",
        ")"
      ],
      "metadata": {
        "id": "ZUyLkfn6HUkF"
      },
      "execution_count": null,
      "outputs": []
    },
    {
      "cell_type": "code",
      "source": [
        "cross_val_score(lr_pipeline_1, X, y, cv = 5, scoring = 'r2')"
      ],
      "metadata": {
        "colab": {
          "base_uri": "https://localhost:8080/"
        },
        "id": "TBtl7UUeHlFF",
        "outputId": "a5b1fa9f-bf5f-4954-d489-952f32ad05f8"
      },
      "execution_count": null,
      "outputs": [
        {
          "output_type": "execute_result",
          "data": {
            "text/plain": [
              "array([-4.59217770e+20, -1.21723181e+20, -8.37868327e+19, -9.71584476e+20,\n",
              "       -3.78389822e+20])"
            ]
          },
          "metadata": {},
          "execution_count": 10
        }
      ]
    },
    {
      "cell_type": "code",
      "source": [
        "X = ames.drop([\"SalePrice\", \"Order\", \"PID\"], axis = 1)\n",
        "y = ames[\"SalePrice\"]\n",
        "\n",
        "\n",
        "ct = ColumnTransformer(\n",
        "  [\n",
        "    (\"dummify\",\n",
        "    OneHotEncoder(sparse_output = False, handle_unknown='ignore'),\n",
        "    make_column_selector(dtype_include=object)),\n",
        "    (\"standardize\",\n",
        "    StandardScaler(),\n",
        "    make_column_selector(dtype_include=np.number))\n",
        "  ],\n",
        "  remainder = \"passthrough\"\n",
        ")\n",
        "\n",
        "ridge_pipeline = Pipeline(\n",
        "  [(\"preprocessing\", ct),\n",
        "  (\"ridge_regression\", Ridge(alpha = 1))]\n",
        ")"
      ],
      "metadata": {
        "id": "zaocefdOGUKk"
      },
      "execution_count": null,
      "outputs": []
    },
    {
      "cell_type": "code",
      "source": [
        "print(cross_val_score(ridge_pipeline, X, y, cv = 5, scoring = 'r2'))\n",
        "print(np.mean(cross_val_score(ridge_pipeline, X, y, cv = 5, scoring = 'r2')))"
      ],
      "metadata": {
        "colab": {
          "base_uri": "https://localhost:8080/"
        },
        "id": "68dgvcgeHoLS",
        "outputId": "8af893c0-afe0-47c8-d3f6-dae2c2caa591"
      },
      "execution_count": null,
      "outputs": [
        {
          "output_type": "stream",
          "name": "stdout",
          "text": [
            "[0.8983804  0.91749817 0.79251623 0.78248152 0.91492025]\n",
            "0.8611593144036662\n"
          ]
        }
      ]
    },
    {
      "cell_type": "markdown",
      "source": [
        "These scores are far, far better than the ones for the previous model"
      ],
      "metadata": {
        "id": "PvsoNqBsHucy"
      }
    },
    {
      "cell_type": "code",
      "source": [
        "ridge_pipeline = Pipeline(\n",
        "  [(\"preprocessing\", ct),\n",
        "  (\"ridge_regression\", Ridge(alpha = .001))]\n",
        ")\n",
        "\n",
        "print(cross_val_score(ridge_pipeline, X, y, cv = 5, scoring = 'r2'))\n",
        "print(np.mean(cross_val_score(ridge_pipeline, X, y, cv = 5, scoring = 'r2')))"
      ],
      "metadata": {
        "colab": {
          "base_uri": "https://localhost:8080/"
        },
        "id": "zsAzgJdZNRsZ",
        "outputId": "30fabb62-35cc-4b5c-fa6a-83f02acd7950"
      },
      "execution_count": null,
      "outputs": [
        {
          "output_type": "stream",
          "name": "stdout",
          "text": [
            "[0.89854203 0.90960213 0.78694665 0.76870417 0.90093231]\n",
            "0.8529454580763808\n"
          ]
        }
      ]
    },
    {
      "cell_type": "code",
      "source": [
        "ridge_pipeline = Pipeline(\n",
        "  [(\"preprocessing\", ct),\n",
        "  (\"ridge_regression\", Ridge(alpha = .01))]\n",
        ")\n",
        "\n",
        "print(cross_val_score(ridge_pipeline, X, y, cv = 5, scoring = 'r2'))\n",
        "print(np.mean(cross_val_score(ridge_pipeline, X, y, cv = 5, scoring = 'r2')))"
      ],
      "metadata": {
        "colab": {
          "base_uri": "https://localhost:8080/"
        },
        "id": "d9usVxJ_Ns5x",
        "outputId": "27e35bc1-d892-4b3f-ed02-2e24b406dfbe"
      },
      "execution_count": null,
      "outputs": [
        {
          "output_type": "stream",
          "name": "stdout",
          "text": [
            "[0.89857655 0.90983697 0.78705498 0.76912045 0.90152915]\n",
            "0.8532236194833424\n"
          ]
        }
      ]
    },
    {
      "cell_type": "code",
      "source": [
        "ridge_pipeline = Pipeline(\n",
        "  [(\"preprocessing\", ct),\n",
        "  (\"ridge_regression\", Ridge(alpha = .1))]\n",
        ")\n",
        "\n",
        "print(cross_val_score(ridge_pipeline, X, y, cv = 5, scoring = 'r2'))\n",
        "print(np.mean(cross_val_score(ridge_pipeline, X, y, cv = 5, scoring = 'r2')))"
      ],
      "metadata": {
        "colab": {
          "base_uri": "https://localhost:8080/"
        },
        "id": "iHb7fFwMNvxY",
        "outputId": "917ed22e-c574-439c-b57b-01a3754b5f94"
      },
      "execution_count": null,
      "outputs": [
        {
          "output_type": "stream",
          "name": "stdout",
          "text": [
            "[0.89877654 0.91174047 0.78801513 0.77248969 0.90609412]\n",
            "0.8554231896664215\n"
          ]
        }
      ]
    },
    {
      "cell_type": "code",
      "source": [
        "ridge_pipeline = Pipeline(\n",
        "  [(\"preprocessing\", ct),\n",
        "  (\"ridge_regression\", Ridge(alpha = 10))]\n",
        ")\n",
        "\n",
        "print(cross_val_score(ridge_pipeline, X, y, cv = 5, scoring = 'r2'))\n",
        "print(np.mean(cross_val_score(ridge_pipeline, X, y, cv = 5, scoring = 'r2')))"
      ],
      "metadata": {
        "colab": {
          "base_uri": "https://localhost:8080/"
        },
        "id": "RD8T81qANzag",
        "outputId": "e4ec4ab0-2dfd-4f03-d12f-f8d1a84c2280"
      },
      "execution_count": null,
      "outputs": [
        {
          "output_type": "stream",
          "name": "stdout",
          "text": [
            "[0.89725065 0.92136221 0.79751148 0.78466735 0.91598258]\n",
            "0.8633548524419264\n"
          ]
        }
      ]
    },
    {
      "cell_type": "markdown",
      "source": [
        "10 appears to be the best choice for alpha, as it gives the highest R^2 on average"
      ],
      "metadata": {
        "id": "Jja-ugQcN5No"
      }
    },
    {
      "cell_type": "markdown",
      "source": [
        "# Part 2: Lasso"
      ],
      "metadata": {
        "id": "OvfQ8mL2OJXG"
      }
    },
    {
      "cell_type": "code",
      "source": [
        "lasso_pipeline = Pipeline(\n",
        "  [(\"preprocessing\", ct),\n",
        "  (\"lasso_regression\", Lasso(alpha = 1))]\n",
        ")\n",
        "\n",
        "print(cross_val_score(lasso_pipeline, X, y, cv = 5, scoring = 'r2'))\n",
        "print(np.mean(cross_val_score(lasso_pipeline, X, y, cv = 5, scoring = 'r2')))"
      ],
      "metadata": {
        "colab": {
          "base_uri": "https://localhost:8080/"
        },
        "id": "Eb6OR5QrN_pS",
        "outputId": "c3006d64-80ef-4142-fdd9-e2f96e1984b5"
      },
      "execution_count": null,
      "outputs": [
        {
          "output_type": "stream",
          "name": "stderr",
          "text": [
            "/usr/local/lib/python3.10/dist-packages/sklearn/linear_model/_coordinate_descent.py:631: ConvergenceWarning: Objective did not converge. You might want to increase the number of iterations, check the scale of the features or consider increasing regularisation. Duality gap: 1.688e+10, tolerance: 1.474e+09\n",
            "/usr/local/lib/python3.10/dist-packages/sklearn/linear_model/_coordinate_descent.py:631: ConvergenceWarning: Objective did not converge. You might want to increase the number of iterations, check the scale of the features or consider increasing regularisation. Duality gap: 2.393e+10, tolerance: 1.463e+09\n",
            "/usr/local/lib/python3.10/dist-packages/sklearn/linear_model/_coordinate_descent.py:631: ConvergenceWarning: Objective did not converge. You might want to increase the number of iterations, check the scale of the features or consider increasing regularisation. Duality gap: 3.582e+10, tolerance: 1.477e+09\n"
          ]
        },
        {
          "output_type": "stream",
          "name": "stdout",
          "text": [
            "[0.89890206 0.91021274 0.79352217 0.7703388  0.90647455]\n"
          ]
        },
        {
          "output_type": "stream",
          "name": "stderr",
          "text": [
            "/usr/local/lib/python3.10/dist-packages/sklearn/linear_model/_coordinate_descent.py:631: ConvergenceWarning: Objective did not converge. You might want to increase the number of iterations, check the scale of the features or consider increasing regularisation. Duality gap: 1.688e+10, tolerance: 1.474e+09\n",
            "/usr/local/lib/python3.10/dist-packages/sklearn/linear_model/_coordinate_descent.py:631: ConvergenceWarning: Objective did not converge. You might want to increase the number of iterations, check the scale of the features or consider increasing regularisation. Duality gap: 2.393e+10, tolerance: 1.463e+09\n"
          ]
        },
        {
          "output_type": "stream",
          "name": "stdout",
          "text": [
            "0.8558900650255857\n"
          ]
        },
        {
          "output_type": "stream",
          "name": "stderr",
          "text": [
            "/usr/local/lib/python3.10/dist-packages/sklearn/linear_model/_coordinate_descent.py:631: ConvergenceWarning: Objective did not converge. You might want to increase the number of iterations, check the scale of the features or consider increasing regularisation. Duality gap: 3.582e+10, tolerance: 1.477e+09\n"
          ]
        }
      ]
    },
    {
      "cell_type": "code",
      "source": [
        "lasso_pipeline = Pipeline(\n",
        "  [(\"preprocessing\", ct),\n",
        "  (\"lasso_regression\", Lasso(alpha = .001))]\n",
        ")\n",
        "\n",
        "print(cross_val_score(lasso_pipeline, X, y, cv = 5, scoring = 'r2'))\n",
        "print(np.mean(cross_val_score(lasso_pipeline, X, y, cv = 5, scoring = 'r2')))"
      ],
      "metadata": {
        "colab": {
          "base_uri": "https://localhost:8080/"
        },
        "id": "4j9F-9wLOoM9",
        "outputId": "433d5c95-4ef7-4133-8ac3-60eefdb463b6"
      },
      "execution_count": null,
      "outputs": [
        {
          "output_type": "stream",
          "name": "stderr",
          "text": [
            "/usr/local/lib/python3.10/dist-packages/sklearn/linear_model/_coordinate_descent.py:631: ConvergenceWarning: Objective did not converge. You might want to increase the number of iterations, check the scale of the features or consider increasing regularisation. Duality gap: 2.103e+11, tolerance: 1.348e+09\n",
            "/usr/local/lib/python3.10/dist-packages/sklearn/linear_model/_coordinate_descent.py:631: ConvergenceWarning: Objective did not converge. You might want to increase the number of iterations, check the scale of the features or consider increasing regularisation. Duality gap: 3.098e+11, tolerance: 1.474e+09\n",
            "/usr/local/lib/python3.10/dist-packages/sklearn/linear_model/_coordinate_descent.py:631: ConvergenceWarning: Objective did not converge. You might want to increase the number of iterations, check the scale of the features or consider increasing regularisation. Duality gap: 1.871e+11, tolerance: 1.463e+09\n",
            "/usr/local/lib/python3.10/dist-packages/sklearn/linear_model/_coordinate_descent.py:631: ConvergenceWarning: Objective did not converge. You might want to increase the number of iterations, check the scale of the features or consider increasing regularisation. Duality gap: 1.734e+11, tolerance: 1.407e+09\n",
            "/usr/local/lib/python3.10/dist-packages/sklearn/linear_model/_coordinate_descent.py:631: ConvergenceWarning: Objective did not converge. You might want to increase the number of iterations, check the scale of the features or consider increasing regularisation. Duality gap: 2.553e+11, tolerance: 1.477e+09\n"
          ]
        },
        {
          "output_type": "stream",
          "name": "stdout",
          "text": [
            "[0.89845958 0.90958752 0.78788765 0.77001534 0.90624892]\n"
          ]
        },
        {
          "output_type": "stream",
          "name": "stderr",
          "text": [
            "/usr/local/lib/python3.10/dist-packages/sklearn/linear_model/_coordinate_descent.py:631: ConvergenceWarning: Objective did not converge. You might want to increase the number of iterations, check the scale of the features or consider increasing regularisation. Duality gap: 2.103e+11, tolerance: 1.348e+09\n",
            "/usr/local/lib/python3.10/dist-packages/sklearn/linear_model/_coordinate_descent.py:631: ConvergenceWarning: Objective did not converge. You might want to increase the number of iterations, check the scale of the features or consider increasing regularisation. Duality gap: 3.098e+11, tolerance: 1.474e+09\n",
            "/usr/local/lib/python3.10/dist-packages/sklearn/linear_model/_coordinate_descent.py:631: ConvergenceWarning: Objective did not converge. You might want to increase the number of iterations, check the scale of the features or consider increasing regularisation. Duality gap: 1.871e+11, tolerance: 1.463e+09\n",
            "/usr/local/lib/python3.10/dist-packages/sklearn/linear_model/_coordinate_descent.py:631: ConvergenceWarning: Objective did not converge. You might want to increase the number of iterations, check the scale of the features or consider increasing regularisation. Duality gap: 1.734e+11, tolerance: 1.407e+09\n"
          ]
        },
        {
          "output_type": "stream",
          "name": "stdout",
          "text": [
            "0.8544397995269115\n"
          ]
        },
        {
          "output_type": "stream",
          "name": "stderr",
          "text": [
            "/usr/local/lib/python3.10/dist-packages/sklearn/linear_model/_coordinate_descent.py:631: ConvergenceWarning: Objective did not converge. You might want to increase the number of iterations, check the scale of the features or consider increasing regularisation. Duality gap: 2.553e+11, tolerance: 1.477e+09\n"
          ]
        }
      ]
    },
    {
      "cell_type": "code",
      "source": [
        "lasso_pipeline = Pipeline(\n",
        "  [(\"preprocessing\", ct),\n",
        "  (\"lasso_regression\", Lasso(alpha = .01))]\n",
        ")\n",
        "\n",
        "print(cross_val_score(lasso_pipeline, X, y, cv = 5, scoring = 'r2'))\n",
        "print(np.mean(cross_val_score(lasso_pipeline, X, y, cv = 5, scoring = 'r2')))"
      ],
      "metadata": {
        "colab": {
          "base_uri": "https://localhost:8080/"
        },
        "id": "rIgwElFcOrsW",
        "outputId": "96daf07e-11d6-4ad6-c891-4044f74727c0"
      },
      "execution_count": null,
      "outputs": [
        {
          "output_type": "stream",
          "name": "stderr",
          "text": [
            "/usr/local/lib/python3.10/dist-packages/sklearn/linear_model/_coordinate_descent.py:631: ConvergenceWarning: Objective did not converge. You might want to increase the number of iterations, check the scale of the features or consider increasing regularisation. Duality gap: 2.104e+11, tolerance: 1.348e+09\n",
            "/usr/local/lib/python3.10/dist-packages/sklearn/linear_model/_coordinate_descent.py:631: ConvergenceWarning: Objective did not converge. You might want to increase the number of iterations, check the scale of the features or consider increasing regularisation. Duality gap: 3.099e+11, tolerance: 1.474e+09\n",
            "/usr/local/lib/python3.10/dist-packages/sklearn/linear_model/_coordinate_descent.py:631: ConvergenceWarning: Objective did not converge. You might want to increase the number of iterations, check the scale of the features or consider increasing regularisation. Duality gap: 1.963e+11, tolerance: 1.463e+09\n",
            "/usr/local/lib/python3.10/dist-packages/sklearn/linear_model/_coordinate_descent.py:631: ConvergenceWarning: Objective did not converge. You might want to increase the number of iterations, check the scale of the features or consider increasing regularisation. Duality gap: 1.735e+11, tolerance: 1.407e+09\n",
            "/usr/local/lib/python3.10/dist-packages/sklearn/linear_model/_coordinate_descent.py:631: ConvergenceWarning: Objective did not converge. You might want to increase the number of iterations, check the scale of the features or consider increasing regularisation. Duality gap: 1.536e+11, tolerance: 1.477e+09\n"
          ]
        },
        {
          "output_type": "stream",
          "name": "stdout",
          "text": [
            "[0.89846254 0.90959277 0.78843197 0.77007616 0.90618235]\n"
          ]
        },
        {
          "output_type": "stream",
          "name": "stderr",
          "text": [
            "/usr/local/lib/python3.10/dist-packages/sklearn/linear_model/_coordinate_descent.py:631: ConvergenceWarning: Objective did not converge. You might want to increase the number of iterations, check the scale of the features or consider increasing regularisation. Duality gap: 2.104e+11, tolerance: 1.348e+09\n",
            "/usr/local/lib/python3.10/dist-packages/sklearn/linear_model/_coordinate_descent.py:631: ConvergenceWarning: Objective did not converge. You might want to increase the number of iterations, check the scale of the features or consider increasing regularisation. Duality gap: 3.099e+11, tolerance: 1.474e+09\n",
            "/usr/local/lib/python3.10/dist-packages/sklearn/linear_model/_coordinate_descent.py:631: ConvergenceWarning: Objective did not converge. You might want to increase the number of iterations, check the scale of the features or consider increasing regularisation. Duality gap: 1.963e+11, tolerance: 1.463e+09\n",
            "/usr/local/lib/python3.10/dist-packages/sklearn/linear_model/_coordinate_descent.py:631: ConvergenceWarning: Objective did not converge. You might want to increase the number of iterations, check the scale of the features or consider increasing regularisation. Duality gap: 1.735e+11, tolerance: 1.407e+09\n"
          ]
        },
        {
          "output_type": "stream",
          "name": "stdout",
          "text": [
            "0.854549158954238\n"
          ]
        },
        {
          "output_type": "stream",
          "name": "stderr",
          "text": [
            "/usr/local/lib/python3.10/dist-packages/sklearn/linear_model/_coordinate_descent.py:631: ConvergenceWarning: Objective did not converge. You might want to increase the number of iterations, check the scale of the features or consider increasing regularisation. Duality gap: 1.536e+11, tolerance: 1.477e+09\n"
          ]
        }
      ]
    },
    {
      "cell_type": "code",
      "source": [
        "lasso_pipeline = Pipeline(\n",
        "  [(\"preprocessing\", ct),\n",
        "  (\"lasso_regression\", Lasso(alpha = .1))]\n",
        ")\n",
        "\n",
        "print(cross_val_score(lasso_pipeline, X, y, cv = 5, scoring = 'r2'))\n",
        "print(np.mean(cross_val_score(lasso_pipeline, X, y, cv = 5, scoring = 'r2')))"
      ],
      "metadata": {
        "colab": {
          "base_uri": "https://localhost:8080/"
        },
        "id": "xME-7qesOw98",
        "outputId": "aac7885f-64c2-44b7-f110-72bea272e0bd"
      },
      "execution_count": null,
      "outputs": [
        {
          "output_type": "stream",
          "name": "stderr",
          "text": [
            "/usr/local/lib/python3.10/dist-packages/sklearn/linear_model/_coordinate_descent.py:631: ConvergenceWarning: Objective did not converge. You might want to increase the number of iterations, check the scale of the features or consider increasing regularisation. Duality gap: 2.213e+11, tolerance: 1.348e+09\n",
            "/usr/local/lib/python3.10/dist-packages/sklearn/linear_model/_coordinate_descent.py:631: ConvergenceWarning: Objective did not converge. You might want to increase the number of iterations, check the scale of the features or consider increasing regularisation. Duality gap: 1.558e+11, tolerance: 1.474e+09\n",
            "/usr/local/lib/python3.10/dist-packages/sklearn/linear_model/_coordinate_descent.py:631: ConvergenceWarning: Objective did not converge. You might want to increase the number of iterations, check the scale of the features or consider increasing regularisation. Duality gap: 1.877e+11, tolerance: 1.463e+09\n",
            "/usr/local/lib/python3.10/dist-packages/sklearn/linear_model/_coordinate_descent.py:631: ConvergenceWarning: Objective did not converge. You might want to increase the number of iterations, check the scale of the features or consider increasing regularisation. Duality gap: 1.677e+11, tolerance: 1.407e+09\n",
            "/usr/local/lib/python3.10/dist-packages/sklearn/linear_model/_coordinate_descent.py:631: ConvergenceWarning: Objective did not converge. You might want to increase the number of iterations, check the scale of the features or consider increasing regularisation. Duality gap: 1.539e+11, tolerance: 1.477e+09\n"
          ]
        },
        {
          "output_type": "stream",
          "name": "stdout",
          "text": [
            "[0.89850667 0.90965082 0.79279655 0.7701185  0.90589892]\n"
          ]
        },
        {
          "output_type": "stream",
          "name": "stderr",
          "text": [
            "/usr/local/lib/python3.10/dist-packages/sklearn/linear_model/_coordinate_descent.py:631: ConvergenceWarning: Objective did not converge. You might want to increase the number of iterations, check the scale of the features or consider increasing regularisation. Duality gap: 2.213e+11, tolerance: 1.348e+09\n",
            "/usr/local/lib/python3.10/dist-packages/sklearn/linear_model/_coordinate_descent.py:631: ConvergenceWarning: Objective did not converge. You might want to increase the number of iterations, check the scale of the features or consider increasing regularisation. Duality gap: 1.558e+11, tolerance: 1.474e+09\n",
            "/usr/local/lib/python3.10/dist-packages/sklearn/linear_model/_coordinate_descent.py:631: ConvergenceWarning: Objective did not converge. You might want to increase the number of iterations, check the scale of the features or consider increasing regularisation. Duality gap: 1.877e+11, tolerance: 1.463e+09\n",
            "/usr/local/lib/python3.10/dist-packages/sklearn/linear_model/_coordinate_descent.py:631: ConvergenceWarning: Objective did not converge. You might want to increase the number of iterations, check the scale of the features or consider increasing regularisation. Duality gap: 1.677e+11, tolerance: 1.407e+09\n"
          ]
        },
        {
          "output_type": "stream",
          "name": "stdout",
          "text": [
            "0.8553942923313158\n"
          ]
        },
        {
          "output_type": "stream",
          "name": "stderr",
          "text": [
            "/usr/local/lib/python3.10/dist-packages/sklearn/linear_model/_coordinate_descent.py:631: ConvergenceWarning: Objective did not converge. You might want to increase the number of iterations, check the scale of the features or consider increasing regularisation. Duality gap: 1.539e+11, tolerance: 1.477e+09\n"
          ]
        }
      ]
    },
    {
      "cell_type": "code",
      "source": [
        "lasso_pipeline = Pipeline(\n",
        "  [(\"preprocessing\", ct),\n",
        "  (\"lasso_regression\", Lasso(alpha = 10))]\n",
        ")\n",
        "\n",
        "print(cross_val_score(lasso_pipeline, X, y, cv = 5, scoring = 'r2'))\n",
        "print(np.mean(cross_val_score(lasso_pipeline, X, y, cv = 5, scoring = 'r2')))"
      ],
      "metadata": {
        "colab": {
          "base_uri": "https://localhost:8080/"
        },
        "id": "M9dROOsiO3_g",
        "outputId": "fdfaf806-3994-4a13-c5c2-5302bffc518e"
      },
      "execution_count": null,
      "outputs": [
        {
          "output_type": "stream",
          "name": "stdout",
          "text": [
            "[0.90126483 0.91466516 0.79834316 0.77275615 0.91044612]\n",
            "0.8594950842585085\n"
          ]
        }
      ]
    },
    {
      "cell_type": "markdown",
      "source": [
        "The best lasso model was the one with alpha of 10. It was not better than the best performing ridge model, although it is still far better than the OLS method."
      ],
      "metadata": {
        "id": "2Sch9EhwPBEN"
      }
    },
    {
      "cell_type": "markdown",
      "source": [
        "# Part 3: Elastic Net"
      ],
      "metadata": {
        "id": "NSrO5Pi1PKsf"
      }
    },
    {
      "cell_type": "markdown",
      "source": [
        "alpha = 10 gave us the best results for both ridge and lasso, so we will stick with that"
      ],
      "metadata": {
        "id": "RvmiZ1OZR7YE"
      }
    },
    {
      "cell_type": "code",
      "source": [
        "net_pipeline = Pipeline(\n",
        "  [(\"preprocessing\", ct),\n",
        "  (\"net_regression\", ElasticNet(alpha = 10, l1_ratio = .1))]\n",
        ")\n",
        "\n",
        "print(cross_val_score(net_pipeline, X, y, cv = 5, scoring = 'r2'))\n",
        "print(np.mean(cross_val_score(net_pipeline, X, y, cv = 5, scoring = 'r2')))"
      ],
      "metadata": {
        "colab": {
          "base_uri": "https://localhost:8080/"
        },
        "id": "uWAY6SgKPAZ3",
        "outputId": "b83d80b0-ec43-47cc-f43e-cf88408d71f4"
      },
      "execution_count": null,
      "outputs": [
        {
          "output_type": "stream",
          "name": "stdout",
          "text": [
            "[0.51857267 0.60545365 0.56551838 0.52749108 0.58959984]\n",
            "0.5613271234724171\n"
          ]
        }
      ]
    },
    {
      "cell_type": "code",
      "source": [
        "net_pipeline = Pipeline(\n",
        "  [(\"preprocessing\", ct),\n",
        "  (\"net_regression\", ElasticNet(alpha = 10, l1_ratio = .2))]\n",
        ")\n",
        "\n",
        "print(cross_val_score(net_pipeline, X, y, cv = 5, scoring = 'r2'))\n",
        "print(np.mean(cross_val_score(net_pipeline, X, y, cv = 5, scoring = 'r2')))"
      ],
      "metadata": {
        "colab": {
          "base_uri": "https://localhost:8080/"
        },
        "id": "YQjQdXArSGNg",
        "outputId": "08aeb93f-9b1f-40fe-e176-09242ffb3263"
      },
      "execution_count": null,
      "outputs": [
        {
          "output_type": "stream",
          "name": "stdout",
          "text": [
            "[0.5452929  0.63225164 0.58936202 0.54996608 0.61599404]\n",
            "0.586573338240022\n"
          ]
        }
      ]
    },
    {
      "cell_type": "code",
      "source": [
        "net_pipeline = Pipeline(\n",
        "  [(\"preprocessing\", ct),\n",
        "  (\"net_regression\", ElasticNet(alpha = 10, l1_ratio = .3))]\n",
        ")\n",
        "\n",
        "print(cross_val_score(net_pipeline, X, y, cv = 5, scoring = 'r2'))\n",
        "print(np.mean(cross_val_score(net_pipeline, X, y, cv = 5, scoring = 'r2')))"
      ],
      "metadata": {
        "colab": {
          "base_uri": "https://localhost:8080/"
        },
        "id": "NrZ7aEzOSN_Q",
        "outputId": "405fe874-6cc6-494f-dca3-eef7ce373d24"
      },
      "execution_count": null,
      "outputs": [
        {
          "output_type": "stream",
          "name": "stdout",
          "text": [
            "[0.57448069 0.66105656 0.61470614 0.57394039 0.64437059]\n",
            "0.6137108752901929\n"
          ]
        }
      ]
    },
    {
      "cell_type": "code",
      "source": [
        "net_pipeline = Pipeline(\n",
        "  [(\"preprocessing\", ct),\n",
        "  (\"net_regression\", ElasticNet(alpha = 10, l1_ratio = .4))]\n",
        ")\n",
        "\n",
        "print(cross_val_score(net_pipeline, X, y, cv = 5, scoring = 'r2'))\n",
        "print(np.mean(cross_val_score(net_pipeline, X, y, cv = 5, scoring = 'r2')))"
      ],
      "metadata": {
        "colab": {
          "base_uri": "https://localhost:8080/"
        },
        "id": "sE9ip-jwSS80",
        "outputId": "f03ad499-8c83-4918-f0f1-657f58dc4650"
      },
      "execution_count": null,
      "outputs": [
        {
          "output_type": "stream",
          "name": "stdout",
          "text": [
            "[0.60642199 0.69195506 0.64148681 0.5993884  0.67482306]\n",
            "0.6428150628494537\n"
          ]
        }
      ]
    },
    {
      "cell_type": "code",
      "source": [
        "net_pipeline = Pipeline(\n",
        "  [(\"preprocessing\", ct),\n",
        "  (\"net_regression\", ElasticNet(alpha = 10, l1_ratio = .5))]\n",
        ")\n",
        "\n",
        "print(cross_val_score(net_pipeline, X, y, cv = 5, scoring = 'r2'))\n",
        "print(np.mean(cross_val_score(net_pipeline, X, y, cv = 5, scoring = 'r2')))"
      ],
      "metadata": {
        "colab": {
          "base_uri": "https://localhost:8080/"
        },
        "id": "MWXWT1hoSXO3",
        "outputId": "518c0a34-a2fc-4cc4-f967-309f4e930d17"
      },
      "execution_count": null,
      "outputs": [
        {
          "output_type": "stream",
          "name": "stdout",
          "text": [
            "[0.6414183  0.72495609 0.66949369 0.62617536 0.70739037]\n",
            "0.6738867625545876\n"
          ]
        }
      ]
    },
    {
      "cell_type": "code",
      "source": [
        "net_pipeline = Pipeline(\n",
        "  [(\"preprocessing\", ct),\n",
        "  (\"net_regression\", ElasticNet(alpha = 10, l1_ratio = .6))]\n",
        ")\n",
        "\n",
        "print(cross_val_score(net_pipeline, X, y, cv = 5, scoring = 'r2'))\n",
        "print(np.mean(cross_val_score(net_pipeline, X, y, cv = 5, scoring = 'r2')))"
      ],
      "metadata": {
        "colab": {
          "base_uri": "https://localhost:8080/"
        },
        "id": "Sc6UhtgXSb3B",
        "outputId": "3829e9b0-b02a-4f8f-a64d-39b9f5f9e99c"
      },
      "execution_count": null,
      "outputs": [
        {
          "output_type": "stream",
          "name": "stdout",
          "text": [
            "[0.67977875 0.75995082 0.69826358 0.65396424 0.74199763]\n",
            "0.7067910042238292\n"
          ]
        }
      ]
    },
    {
      "cell_type": "code",
      "source": [
        "net_pipeline = Pipeline(\n",
        "  [(\"preprocessing\", ct),\n",
        "  (\"net_regression\", ElasticNet(alpha = 10, l1_ratio = .7))]\n",
        ")\n",
        "\n",
        "print(cross_val_score(net_pipeline, X, y, cv = 5, scoring = 'r2'))\n",
        "print(np.mean(cross_val_score(net_pipeline, X, y, cv = 5, scoring = 'r2')))"
      ],
      "metadata": {
        "colab": {
          "base_uri": "https://localhost:8080/"
        },
        "id": "FUMAVAbZSmAZ",
        "outputId": "9ccc9167-9d2f-4e74-82d3-2502b30bdca3"
      },
      "execution_count": null,
      "outputs": [
        {
          "output_type": "stream",
          "name": "stdout",
          "text": [
            "[0.72179896 0.79661752 0.72686734 0.68206736 0.77845047]\n",
            "0.7411603302801135\n"
          ]
        }
      ]
    },
    {
      "cell_type": "code",
      "source": [
        "net_pipeline = Pipeline(\n",
        "  [(\"preprocessing\", ct),\n",
        "  (\"net_regression\", ElasticNet(alpha = 10, l1_ratio = .8))]\n",
        ")\n",
        "\n",
        "print(cross_val_score(net_pipeline, X, y, cv = 5, scoring = 'r2'))\n",
        "print(np.mean(cross_val_score(net_pipeline, X, y, cv = 5, scoring = 'r2')))"
      ],
      "metadata": {
        "colab": {
          "base_uri": "https://localhost:8080/"
        },
        "id": "2HliwvrOSpTJ",
        "outputId": "e3ee7246-1e48-45e4-f093-478c56269bf1"
      },
      "execution_count": null,
      "outputs": [
        {
          "output_type": "stream",
          "name": "stdout",
          "text": [
            "[0.76784457 0.83443673 0.75356924 0.70924416 0.81651998]\n",
            "0.7763229359426165\n"
          ]
        }
      ]
    },
    {
      "cell_type": "code",
      "source": [
        "net_pipeline = Pipeline(\n",
        "  [(\"preprocessing\", ct),\n",
        "  (\"net_regression\", ElasticNet(alpha = 10, l1_ratio = .9))]\n",
        ")\n",
        "\n",
        "print(cross_val_score(net_pipeline, X, y, cv = 5, scoring = 'r2'))\n",
        "print(np.mean(cross_val_score(net_pipeline, X, y, cv = 5, scoring = 'r2')))"
      ],
      "metadata": {
        "colab": {
          "base_uri": "https://localhost:8080/"
        },
        "id": "i2AHAMA8SssC",
        "outputId": "66d27370-4eac-405f-cf57-0978385e9ddd"
      },
      "execution_count": null,
      "outputs": [
        {
          "output_type": "stream",
          "name": "stdout",
          "text": [
            "[0.81908537 0.87346804 0.77511063 0.73376357 0.85711255]\n",
            "0.8117080324541781\n"
          ]
        }
      ]
    },
    {
      "cell_type": "code",
      "source": [
        "net_pipeline = Pipeline(\n",
        "  [(\"preprocessing\", ct),\n",
        "  (\"net_regression\", ElasticNet(alpha = 10, l1_ratio = .99))]\n",
        ")\n",
        "\n",
        "print(cross_val_score(net_pipeline, X, y, cv = 5, scoring = 'r2'))\n",
        "print(np.mean(cross_val_score(net_pipeline, X, y, cv = 5, scoring = 'r2')))"
      ],
      "metadata": {
        "colab": {
          "base_uri": "https://localhost:8080/"
        },
        "id": "lxm1c8FYSwl0",
        "outputId": "6c703ac8-1002-4ce8-e552-958b9b49dbdc"
      },
      "execution_count": null,
      "outputs": [
        {
          "output_type": "stream",
          "name": "stdout",
          "text": [
            "[0.88023223 0.91886489 0.78641743 0.76176058 0.90843509]\n",
            "0.8511420436156341\n"
          ]
        }
      ]
    },
    {
      "cell_type": "markdown",
      "source": [
        "Based on these results, elastic net only offers good results for alpha = 10 if the l1_ratio is near 1. Let's try with some other alphas"
      ],
      "metadata": {
        "id": "us9gUoH0S97W"
      }
    },
    {
      "cell_type": "code",
      "source": [
        "net_pipeline = Pipeline(\n",
        "  [(\"preprocessing\", ct),\n",
        "  (\"net_regression\", ElasticNet(alpha = .001, l1_ratio = .99))]\n",
        ")\n",
        "\n",
        "print(cross_val_score(net_pipeline, X, y, cv = 5, scoring = 'r2'))\n",
        "print(np.mean(cross_val_score(net_pipeline, X, y, cv = 5, scoring = 'r2')))"
      ],
      "metadata": {
        "colab": {
          "base_uri": "https://localhost:8080/"
        },
        "id": "xncQvaMRTFfK",
        "outputId": "042d63b5-a31a-449a-8709-d5bb8e4f5c14"
      },
      "execution_count": null,
      "outputs": [
        {
          "output_type": "stream",
          "name": "stderr",
          "text": [
            "/usr/local/lib/python3.10/dist-packages/sklearn/linear_model/_coordinate_descent.py:631: ConvergenceWarning: Objective did not converge. You might want to increase the number of iterations, check the scale of the features or consider increasing regularisation. Duality gap: 5.218e+11, tolerance: 1.348e+09\n",
            "/usr/local/lib/python3.10/dist-packages/sklearn/linear_model/_coordinate_descent.py:631: ConvergenceWarning: Objective did not converge. You might want to increase the number of iterations, check the scale of the features or consider increasing regularisation. Duality gap: 5.917e+11, tolerance: 1.474e+09\n",
            "/usr/local/lib/python3.10/dist-packages/sklearn/linear_model/_coordinate_descent.py:631: ConvergenceWarning: Objective did not converge. You might want to increase the number of iterations, check the scale of the features or consider increasing regularisation. Duality gap: 5.683e+11, tolerance: 1.463e+09\n",
            "/usr/local/lib/python3.10/dist-packages/sklearn/linear_model/_coordinate_descent.py:631: ConvergenceWarning: Objective did not converge. You might want to increase the number of iterations, check the scale of the features or consider increasing regularisation. Duality gap: 4.101e+11, tolerance: 1.407e+09\n",
            "/usr/local/lib/python3.10/dist-packages/sklearn/linear_model/_coordinate_descent.py:631: ConvergenceWarning: Objective did not converge. You might want to increase the number of iterations, check the scale of the features or consider increasing regularisation. Duality gap: 5.946e+11, tolerance: 1.477e+09\n"
          ]
        },
        {
          "output_type": "stream",
          "name": "stdout",
          "text": [
            "[0.8985533  0.91016468 0.78746074 0.76949634 0.90245839]\n"
          ]
        },
        {
          "output_type": "stream",
          "name": "stderr",
          "text": [
            "/usr/local/lib/python3.10/dist-packages/sklearn/linear_model/_coordinate_descent.py:631: ConvergenceWarning: Objective did not converge. You might want to increase the number of iterations, check the scale of the features or consider increasing regularisation. Duality gap: 5.218e+11, tolerance: 1.348e+09\n",
            "/usr/local/lib/python3.10/dist-packages/sklearn/linear_model/_coordinate_descent.py:631: ConvergenceWarning: Objective did not converge. You might want to increase the number of iterations, check the scale of the features or consider increasing regularisation. Duality gap: 5.917e+11, tolerance: 1.474e+09\n",
            "/usr/local/lib/python3.10/dist-packages/sklearn/linear_model/_coordinate_descent.py:631: ConvergenceWarning: Objective did not converge. You might want to increase the number of iterations, check the scale of the features or consider increasing regularisation. Duality gap: 5.683e+11, tolerance: 1.463e+09\n",
            "/usr/local/lib/python3.10/dist-packages/sklearn/linear_model/_coordinate_descent.py:631: ConvergenceWarning: Objective did not converge. You might want to increase the number of iterations, check the scale of the features or consider increasing regularisation. Duality gap: 4.101e+11, tolerance: 1.407e+09\n"
          ]
        },
        {
          "output_type": "stream",
          "name": "stdout",
          "text": [
            "0.853626689930415\n"
          ]
        },
        {
          "output_type": "stream",
          "name": "stderr",
          "text": [
            "/usr/local/lib/python3.10/dist-packages/sklearn/linear_model/_coordinate_descent.py:631: ConvergenceWarning: Objective did not converge. You might want to increase the number of iterations, check the scale of the features or consider increasing regularisation. Duality gap: 5.946e+11, tolerance: 1.477e+09\n"
          ]
        }
      ]
    },
    {
      "cell_type": "code",
      "source": [
        "net_pipeline = Pipeline(\n",
        "  [(\"preprocessing\", ct),\n",
        "  (\"net_regression\", ElasticNet(alpha = .001, l1_ratio = .5))]\n",
        ")\n",
        "\n",
        "print(cross_val_score(net_pipeline, X, y, cv = 5, scoring = 'r2'))\n",
        "print(np.mean(cross_val_score(net_pipeline, X, y, cv = 5, scoring = 'r2')))"
      ],
      "metadata": {
        "colab": {
          "base_uri": "https://localhost:8080/"
        },
        "id": "LQcd3t6qTKm_",
        "outputId": "eeed1d5c-0b8c-4e16-cca8-acbc030a4515"
      },
      "execution_count": null,
      "outputs": [
        {
          "output_type": "stream",
          "name": "stderr",
          "text": [
            "/usr/local/lib/python3.10/dist-packages/sklearn/linear_model/_coordinate_descent.py:631: ConvergenceWarning: Objective did not converge. You might want to increase the number of iterations, check the scale of the features or consider increasing regularisation. Duality gap: 6.172e+11, tolerance: 1.348e+09\n",
            "/usr/local/lib/python3.10/dist-packages/sklearn/linear_model/_coordinate_descent.py:631: ConvergenceWarning: Objective did not converge. You might want to increase the number of iterations, check the scale of the features or consider increasing regularisation. Duality gap: 6.938e+11, tolerance: 1.474e+09\n",
            "/usr/local/lib/python3.10/dist-packages/sklearn/linear_model/_coordinate_descent.py:631: ConvergenceWarning: Objective did not converge. You might want to increase the number of iterations, check the scale of the features or consider increasing regularisation. Duality gap: 5.939e+11, tolerance: 1.463e+09\n",
            "/usr/local/lib/python3.10/dist-packages/sklearn/linear_model/_coordinate_descent.py:631: ConvergenceWarning: Objective did not converge. You might want to increase the number of iterations, check the scale of the features or consider increasing regularisation. Duality gap: 5.063e+11, tolerance: 1.407e+09\n",
            "/usr/local/lib/python3.10/dist-packages/sklearn/linear_model/_coordinate_descent.py:631: ConvergenceWarning: Objective did not converge. You might want to increase the number of iterations, check the scale of the features or consider increasing regularisation. Duality gap: 6.938e+11, tolerance: 1.477e+09\n"
          ]
        },
        {
          "output_type": "stream",
          "name": "stdout",
          "text": [
            "[0.89833171 0.91776933 0.79283004 0.78291948 0.91505287]\n"
          ]
        },
        {
          "output_type": "stream",
          "name": "stderr",
          "text": [
            "/usr/local/lib/python3.10/dist-packages/sklearn/linear_model/_coordinate_descent.py:631: ConvergenceWarning: Objective did not converge. You might want to increase the number of iterations, check the scale of the features or consider increasing regularisation. Duality gap: 6.172e+11, tolerance: 1.348e+09\n",
            "/usr/local/lib/python3.10/dist-packages/sklearn/linear_model/_coordinate_descent.py:631: ConvergenceWarning: Objective did not converge. You might want to increase the number of iterations, check the scale of the features or consider increasing regularisation. Duality gap: 6.938e+11, tolerance: 1.474e+09\n",
            "/usr/local/lib/python3.10/dist-packages/sklearn/linear_model/_coordinate_descent.py:631: ConvergenceWarning: Objective did not converge. You might want to increase the number of iterations, check the scale of the features or consider increasing regularisation. Duality gap: 5.939e+11, tolerance: 1.463e+09\n",
            "/usr/local/lib/python3.10/dist-packages/sklearn/linear_model/_coordinate_descent.py:631: ConvergenceWarning: Objective did not converge. You might want to increase the number of iterations, check the scale of the features or consider increasing regularisation. Duality gap: 5.063e+11, tolerance: 1.407e+09\n"
          ]
        },
        {
          "output_type": "stream",
          "name": "stdout",
          "text": [
            "0.8613806869559927\n"
          ]
        },
        {
          "output_type": "stream",
          "name": "stderr",
          "text": [
            "/usr/local/lib/python3.10/dist-packages/sklearn/linear_model/_coordinate_descent.py:631: ConvergenceWarning: Objective did not converge. You might want to increase the number of iterations, check the scale of the features or consider increasing regularisation. Duality gap: 6.938e+11, tolerance: 1.477e+09\n"
          ]
        }
      ]
    },
    {
      "cell_type": "code",
      "source": [
        "net_pipeline = Pipeline(\n",
        "  [(\"preprocessing\", ct),\n",
        "  (\"net_regression\", ElasticNet(alpha = .001, l1_ratio = .25))]\n",
        ")\n",
        "\n",
        "print(cross_val_score(net_pipeline, X, y, cv = 5, scoring = 'r2'))\n",
        "print(np.mean(cross_val_score(net_pipeline, X, y, cv = 5, scoring = 'r2')))"
      ],
      "metadata": {
        "colab": {
          "base_uri": "https://localhost:8080/"
        },
        "id": "nXgwLfoTTXC6",
        "outputId": "57588fb1-3fb1-4f9f-a77e-cf325568c579"
      },
      "execution_count": null,
      "outputs": [
        {
          "output_type": "stream",
          "name": "stderr",
          "text": [
            "/usr/local/lib/python3.10/dist-packages/sklearn/linear_model/_coordinate_descent.py:631: ConvergenceWarning: Objective did not converge. You might want to increase the number of iterations, check the scale of the features or consider increasing regularisation. Duality gap: 6.361e+11, tolerance: 1.348e+09\n",
            "/usr/local/lib/python3.10/dist-packages/sklearn/linear_model/_coordinate_descent.py:631: ConvergenceWarning: Objective did not converge. You might want to increase the number of iterations, check the scale of the features or consider increasing regularisation. Duality gap: 7.136e+11, tolerance: 1.474e+09\n",
            "/usr/local/lib/python3.10/dist-packages/sklearn/linear_model/_coordinate_descent.py:631: ConvergenceWarning: Objective did not converge. You might want to increase the number of iterations, check the scale of the features or consider increasing regularisation. Duality gap: 6.017e+11, tolerance: 1.463e+09\n",
            "/usr/local/lib/python3.10/dist-packages/sklearn/linear_model/_coordinate_descent.py:631: ConvergenceWarning: Objective did not converge. You might want to increase the number of iterations, check the scale of the features or consider increasing regularisation. Duality gap: 5.233e+11, tolerance: 1.407e+09\n",
            "/usr/local/lib/python3.10/dist-packages/sklearn/linear_model/_coordinate_descent.py:631: ConvergenceWarning: Objective did not converge. You might want to increase the number of iterations, check the scale of the features or consider increasing regularisation. Duality gap: 7.127e+11, tolerance: 1.477e+09\n"
          ]
        },
        {
          "output_type": "stream",
          "name": "stdout",
          "text": [
            "[0.89818501 0.91856248 0.79394458 0.78419233 0.9152417 ]\n"
          ]
        },
        {
          "output_type": "stream",
          "name": "stderr",
          "text": [
            "/usr/local/lib/python3.10/dist-packages/sklearn/linear_model/_coordinate_descent.py:631: ConvergenceWarning: Objective did not converge. You might want to increase the number of iterations, check the scale of the features or consider increasing regularisation. Duality gap: 6.361e+11, tolerance: 1.348e+09\n",
            "/usr/local/lib/python3.10/dist-packages/sklearn/linear_model/_coordinate_descent.py:631: ConvergenceWarning: Objective did not converge. You might want to increase the number of iterations, check the scale of the features or consider increasing regularisation. Duality gap: 7.136e+11, tolerance: 1.474e+09\n",
            "/usr/local/lib/python3.10/dist-packages/sklearn/linear_model/_coordinate_descent.py:631: ConvergenceWarning: Objective did not converge. You might want to increase the number of iterations, check the scale of the features or consider increasing regularisation. Duality gap: 6.017e+11, tolerance: 1.463e+09\n",
            "/usr/local/lib/python3.10/dist-packages/sklearn/linear_model/_coordinate_descent.py:631: ConvergenceWarning: Objective did not converge. You might want to increase the number of iterations, check the scale of the features or consider increasing regularisation. Duality gap: 5.233e+11, tolerance: 1.407e+09\n"
          ]
        },
        {
          "output_type": "stream",
          "name": "stdout",
          "text": [
            "0.8620252220028732\n"
          ]
        },
        {
          "output_type": "stream",
          "name": "stderr",
          "text": [
            "/usr/local/lib/python3.10/dist-packages/sklearn/linear_model/_coordinate_descent.py:631: ConvergenceWarning: Objective did not converge. You might want to increase the number of iterations, check the scale of the features or consider increasing regularisation. Duality gap: 7.127e+11, tolerance: 1.477e+09\n"
          ]
        }
      ]
    },
    {
      "cell_type": "code",
      "source": [
        "net_pipeline = Pipeline(\n",
        "  [(\"preprocessing\", ct),\n",
        "  (\"net_regression\", ElasticNet(alpha = .001, l1_ratio = .1))]\n",
        ")\n",
        "\n",
        "print(cross_val_score(net_pipeline, X, y, cv = 5, scoring = 'r2'))\n",
        "print(np.mean(cross_val_score(net_pipeline, X, y, cv = 5, scoring = 'r2')))"
      ],
      "metadata": {
        "colab": {
          "base_uri": "https://localhost:8080/"
        },
        "id": "L66X455XTP4H",
        "outputId": "1f32ce00-6078-489c-fed8-733353679ee4"
      },
      "execution_count": null,
      "outputs": [
        {
          "output_type": "stream",
          "name": "stderr",
          "text": [
            "/usr/local/lib/python3.10/dist-packages/sklearn/linear_model/_coordinate_descent.py:631: ConvergenceWarning: Objective did not converge. You might want to increase the number of iterations, check the scale of the features or consider increasing regularisation. Duality gap: 6.447e+11, tolerance: 1.348e+09\n",
            "/usr/local/lib/python3.10/dist-packages/sklearn/linear_model/_coordinate_descent.py:631: ConvergenceWarning: Objective did not converge. You might want to increase the number of iterations, check the scale of the features or consider increasing regularisation. Duality gap: 7.226e+11, tolerance: 1.474e+09\n",
            "/usr/local/lib/python3.10/dist-packages/sklearn/linear_model/_coordinate_descent.py:631: ConvergenceWarning: Objective did not converge. You might want to increase the number of iterations, check the scale of the features or consider increasing regularisation. Duality gap: 6.058e+11, tolerance: 1.463e+09\n",
            "/usr/local/lib/python3.10/dist-packages/sklearn/linear_model/_coordinate_descent.py:631: ConvergenceWarning: Objective did not converge. You might want to increase the number of iterations, check the scale of the features or consider increasing regularisation. Duality gap: 5.308e+11, tolerance: 1.407e+09\n",
            "/usr/local/lib/python3.10/dist-packages/sklearn/linear_model/_coordinate_descent.py:631: ConvergenceWarning: Objective did not converge. You might want to increase the number of iterations, check the scale of the features or consider increasing regularisation. Duality gap: 7.213e+11, tolerance: 1.477e+09\n"
          ]
        },
        {
          "output_type": "stream",
          "name": "stdout",
          "text": [
            "[0.89813129 0.91886753 0.79443593 0.78463365 0.91525145]\n"
          ]
        },
        {
          "output_type": "stream",
          "name": "stderr",
          "text": [
            "/usr/local/lib/python3.10/dist-packages/sklearn/linear_model/_coordinate_descent.py:631: ConvergenceWarning: Objective did not converge. You might want to increase the number of iterations, check the scale of the features or consider increasing regularisation. Duality gap: 6.447e+11, tolerance: 1.348e+09\n",
            "/usr/local/lib/python3.10/dist-packages/sklearn/linear_model/_coordinate_descent.py:631: ConvergenceWarning: Objective did not converge. You might want to increase the number of iterations, check the scale of the features or consider increasing regularisation. Duality gap: 7.226e+11, tolerance: 1.474e+09\n",
            "/usr/local/lib/python3.10/dist-packages/sklearn/linear_model/_coordinate_descent.py:631: ConvergenceWarning: Objective did not converge. You might want to increase the number of iterations, check the scale of the features or consider increasing regularisation. Duality gap: 6.058e+11, tolerance: 1.463e+09\n",
            "/usr/local/lib/python3.10/dist-packages/sklearn/linear_model/_coordinate_descent.py:631: ConvergenceWarning: Objective did not converge. You might want to increase the number of iterations, check the scale of the features or consider increasing regularisation. Duality gap: 5.308e+11, tolerance: 1.407e+09\n"
          ]
        },
        {
          "output_type": "stream",
          "name": "stdout",
          "text": [
            "0.8622639708214237\n"
          ]
        },
        {
          "output_type": "stream",
          "name": "stderr",
          "text": [
            "/usr/local/lib/python3.10/dist-packages/sklearn/linear_model/_coordinate_descent.py:631: ConvergenceWarning: Objective did not converge. You might want to increase the number of iterations, check the scale of the features or consider increasing regularisation. Duality gap: 7.213e+11, tolerance: 1.477e+09\n"
          ]
        }
      ]
    },
    {
      "cell_type": "code",
      "source": [
        "net_pipeline = Pipeline(\n",
        "  [(\"preprocessing\", ct),\n",
        "  (\"net_regression\", ElasticNet(alpha = .01, l1_ratio = .9))]\n",
        ")\n",
        "\n",
        "print(cross_val_score(net_pipeline, X, y, cv = 5, scoring = 'r2'))\n",
        "print(np.mean(cross_val_score(net_pipeline, X, y, cv = 5, scoring = 'r2')))"
      ],
      "metadata": {
        "colab": {
          "base_uri": "https://localhost:8080/"
        },
        "id": "9YqJ9FR5Tcv8",
        "outputId": "1702fe95-2447-48e4-e185-e25123b62d8c"
      },
      "execution_count": null,
      "outputs": [
        {
          "output_type": "stream",
          "name": "stderr",
          "text": [
            "/usr/local/lib/python3.10/dist-packages/sklearn/linear_model/_coordinate_descent.py:631: ConvergenceWarning: Objective did not converge. You might want to increase the number of iterations, check the scale of the features or consider increasing regularisation. Duality gap: 6.450e+11, tolerance: 1.348e+09\n",
            "/usr/local/lib/python3.10/dist-packages/sklearn/linear_model/_coordinate_descent.py:631: ConvergenceWarning: Objective did not converge. You might want to increase the number of iterations, check the scale of the features or consider increasing regularisation. Duality gap: 7.225e+11, tolerance: 1.474e+09\n",
            "/usr/local/lib/python3.10/dist-packages/sklearn/linear_model/_coordinate_descent.py:631: ConvergenceWarning: Objective did not converge. You might want to increase the number of iterations, check the scale of the features or consider increasing regularisation. Duality gap: 6.040e+11, tolerance: 1.463e+09\n",
            "/usr/local/lib/python3.10/dist-packages/sklearn/linear_model/_coordinate_descent.py:631: ConvergenceWarning: Objective did not converge. You might want to increase the number of iterations, check the scale of the features or consider increasing regularisation. Duality gap: 5.312e+11, tolerance: 1.407e+09\n",
            "/usr/local/lib/python3.10/dist-packages/sklearn/linear_model/_coordinate_descent.py:631: ConvergenceWarning: Objective did not converge. You might want to increase the number of iterations, check the scale of the features or consider increasing regularisation. Duality gap: 7.210e+11, tolerance: 1.477e+09\n"
          ]
        },
        {
          "output_type": "stream",
          "name": "stdout",
          "text": [
            "[0.89810373 0.9190335  0.79471785 0.7848517  0.91525069]\n"
          ]
        },
        {
          "output_type": "stream",
          "name": "stderr",
          "text": [
            "/usr/local/lib/python3.10/dist-packages/sklearn/linear_model/_coordinate_descent.py:631: ConvergenceWarning: Objective did not converge. You might want to increase the number of iterations, check the scale of the features or consider increasing regularisation. Duality gap: 6.450e+11, tolerance: 1.348e+09\n",
            "/usr/local/lib/python3.10/dist-packages/sklearn/linear_model/_coordinate_descent.py:631: ConvergenceWarning: Objective did not converge. You might want to increase the number of iterations, check the scale of the features or consider increasing regularisation. Duality gap: 7.225e+11, tolerance: 1.474e+09\n",
            "/usr/local/lib/python3.10/dist-packages/sklearn/linear_model/_coordinate_descent.py:631: ConvergenceWarning: Objective did not converge. You might want to increase the number of iterations, check the scale of the features or consider increasing regularisation. Duality gap: 6.040e+11, tolerance: 1.463e+09\n",
            "/usr/local/lib/python3.10/dist-packages/sklearn/linear_model/_coordinate_descent.py:631: ConvergenceWarning: Objective did not converge. You might want to increase the number of iterations, check the scale of the features or consider increasing regularisation. Duality gap: 5.312e+11, tolerance: 1.407e+09\n"
          ]
        },
        {
          "output_type": "stream",
          "name": "stdout",
          "text": [
            "0.8623914920036897\n"
          ]
        },
        {
          "output_type": "stream",
          "name": "stderr",
          "text": [
            "/usr/local/lib/python3.10/dist-packages/sklearn/linear_model/_coordinate_descent.py:631: ConvergenceWarning: Objective did not converge. You might want to increase the number of iterations, check the scale of the features or consider increasing regularisation. Duality gap: 7.210e+11, tolerance: 1.477e+09\n"
          ]
        }
      ]
    },
    {
      "cell_type": "code",
      "source": [
        "net_pipeline = Pipeline(\n",
        "  [(\"preprocessing\", ct),\n",
        "  (\"net_regression\", ElasticNet(alpha = .01, l1_ratio = .6))]\n",
        ")\n",
        "\n",
        "print(cross_val_score(net_pipeline, X, y, cv = 5, scoring = 'r2'))\n",
        "print(np.mean(cross_val_score(net_pipeline, X, y, cv = 5, scoring = 'r2')))"
      ],
      "metadata": {
        "colab": {
          "base_uri": "https://localhost:8080/"
        },
        "id": "0pKgV1myT9XL",
        "outputId": "5e9a5ad3-ef9c-4841-cf1a-2b1128c5dc78"
      },
      "execution_count": null,
      "outputs": [
        {
          "output_type": "stream",
          "name": "stderr",
          "text": [
            "/usr/local/lib/python3.10/dist-packages/sklearn/linear_model/_coordinate_descent.py:631: ConvergenceWarning: Objective did not converge. You might want to increase the number of iterations, check the scale of the features or consider increasing regularisation. Duality gap: 2.902e+11, tolerance: 1.348e+09\n",
            "/usr/local/lib/python3.10/dist-packages/sklearn/linear_model/_coordinate_descent.py:631: ConvergenceWarning: Objective did not converge. You might want to increase the number of iterations, check the scale of the features or consider increasing regularisation. Duality gap: 3.235e+11, tolerance: 1.474e+09\n",
            "/usr/local/lib/python3.10/dist-packages/sklearn/linear_model/_coordinate_descent.py:631: ConvergenceWarning: Objective did not converge. You might want to increase the number of iterations, check the scale of the features or consider increasing regularisation. Duality gap: 2.815e+11, tolerance: 1.463e+09\n",
            "/usr/local/lib/python3.10/dist-packages/sklearn/linear_model/_coordinate_descent.py:631: ConvergenceWarning: Objective did not converge. You might want to increase the number of iterations, check the scale of the features or consider increasing regularisation. Duality gap: 2.332e+11, tolerance: 1.407e+09\n",
            "/usr/local/lib/python3.10/dist-packages/sklearn/linear_model/_coordinate_descent.py:631: ConvergenceWarning: Objective did not converge. You might want to increase the number of iterations, check the scale of the features or consider increasing regularisation. Duality gap: 3.102e+11, tolerance: 1.477e+09\n"
          ]
        },
        {
          "output_type": "stream",
          "name": "stdout",
          "text": [
            "[0.89738131 0.92117134 0.79744001 0.78488968 0.91586869]\n"
          ]
        },
        {
          "output_type": "stream",
          "name": "stderr",
          "text": [
            "/usr/local/lib/python3.10/dist-packages/sklearn/linear_model/_coordinate_descent.py:631: ConvergenceWarning: Objective did not converge. You might want to increase the number of iterations, check the scale of the features or consider increasing regularisation. Duality gap: 2.902e+11, tolerance: 1.348e+09\n",
            "/usr/local/lib/python3.10/dist-packages/sklearn/linear_model/_coordinate_descent.py:631: ConvergenceWarning: Objective did not converge. You might want to increase the number of iterations, check the scale of the features or consider increasing regularisation. Duality gap: 3.235e+11, tolerance: 1.474e+09\n",
            "/usr/local/lib/python3.10/dist-packages/sklearn/linear_model/_coordinate_descent.py:631: ConvergenceWarning: Objective did not converge. You might want to increase the number of iterations, check the scale of the features or consider increasing regularisation. Duality gap: 2.815e+11, tolerance: 1.463e+09\n",
            "/usr/local/lib/python3.10/dist-packages/sklearn/linear_model/_coordinate_descent.py:631: ConvergenceWarning: Objective did not converge. You might want to increase the number of iterations, check the scale of the features or consider increasing regularisation. Duality gap: 2.332e+11, tolerance: 1.407e+09\n"
          ]
        },
        {
          "output_type": "stream",
          "name": "stdout",
          "text": [
            "0.8633502065818149\n"
          ]
        },
        {
          "output_type": "stream",
          "name": "stderr",
          "text": [
            "/usr/local/lib/python3.10/dist-packages/sklearn/linear_model/_coordinate_descent.py:631: ConvergenceWarning: Objective did not converge. You might want to increase the number of iterations, check the scale of the features or consider increasing regularisation. Duality gap: 3.102e+11, tolerance: 1.477e+09\n"
          ]
        }
      ]
    },
    {
      "cell_type": "markdown",
      "source": [
        "This one is about as good as our previous best from ridge alone!"
      ],
      "metadata": {
        "id": "pyGzpbUXUFYE"
      }
    },
    {
      "cell_type": "code",
      "source": [
        "net_pipeline = Pipeline(\n",
        "  [(\"preprocessing\", ct),\n",
        "  (\"net_regression\", ElasticNet(alpha = .01, l1_ratio = .5))]\n",
        ")\n",
        "\n",
        "print(cross_val_score(net_pipeline, X, y, cv = 5, scoring = 'r2'))\n",
        "print(np.mean(cross_val_score(net_pipeline, X, y, cv = 5, scoring = 'r2')))"
      ],
      "metadata": {
        "colab": {
          "base_uri": "https://localhost:8080/"
        },
        "id": "io79Ts0RTiCV",
        "outputId": "72d10392-a7e9-4cad-a945-912ede96b924"
      },
      "execution_count": null,
      "outputs": [
        {
          "output_type": "stream",
          "name": "stderr",
          "text": [
            "/usr/local/lib/python3.10/dist-packages/sklearn/linear_model/_coordinate_descent.py:631: ConvergenceWarning: Objective did not converge. You might want to increase the number of iterations, check the scale of the features or consider increasing regularisation. Duality gap: 2.230e+09, tolerance: 1.474e+09\n",
            "/usr/local/lib/python3.10/dist-packages/sklearn/linear_model/_coordinate_descent.py:631: ConvergenceWarning: Objective did not converge. You might want to increase the number of iterations, check the scale of the features or consider increasing regularisation. Duality gap: 9.607e+09, tolerance: 1.463e+09\n",
            "/usr/local/lib/python3.10/dist-packages/sklearn/linear_model/_coordinate_descent.py:631: ConvergenceWarning: Objective did not converge. You might want to increase the number of iterations, check the scale of the features or consider increasing regularisation. Duality gap: 3.189e+09, tolerance: 1.407e+09\n",
            "/usr/local/lib/python3.10/dist-packages/sklearn/linear_model/_coordinate_descent.py:631: ConvergenceWarning: Objective did not converge. You might want to increase the number of iterations, check the scale of the features or consider increasing regularisation. Duality gap: 2.147e+09, tolerance: 1.477e+09\n"
          ]
        },
        {
          "output_type": "stream",
          "name": "stdout",
          "text": [
            "[0.89707388 0.92159413 0.79756085 0.78435902 0.91612413]\n"
          ]
        },
        {
          "output_type": "stream",
          "name": "stderr",
          "text": [
            "/usr/local/lib/python3.10/dist-packages/sklearn/linear_model/_coordinate_descent.py:631: ConvergenceWarning: Objective did not converge. You might want to increase the number of iterations, check the scale of the features or consider increasing regularisation. Duality gap: 2.230e+09, tolerance: 1.474e+09\n",
            "/usr/local/lib/python3.10/dist-packages/sklearn/linear_model/_coordinate_descent.py:631: ConvergenceWarning: Objective did not converge. You might want to increase the number of iterations, check the scale of the features or consider increasing regularisation. Duality gap: 9.607e+09, tolerance: 1.463e+09\n",
            "/usr/local/lib/python3.10/dist-packages/sklearn/linear_model/_coordinate_descent.py:631: ConvergenceWarning: Objective did not converge. You might want to increase the number of iterations, check the scale of the features or consider increasing regularisation. Duality gap: 3.189e+09, tolerance: 1.407e+09\n"
          ]
        },
        {
          "output_type": "stream",
          "name": "stdout",
          "text": [
            "0.8633424013104791\n"
          ]
        },
        {
          "output_type": "stream",
          "name": "stderr",
          "text": [
            "/usr/local/lib/python3.10/dist-packages/sklearn/linear_model/_coordinate_descent.py:631: ConvergenceWarning: Objective did not converge. You might want to increase the number of iterations, check the scale of the features or consider increasing regularisation. Duality gap: 2.147e+09, tolerance: 1.477e+09\n"
          ]
        }
      ]
    },
    {
      "cell_type": "code",
      "source": [
        "net_pipeline = Pipeline(\n",
        "  [(\"preprocessing\", ct),\n",
        "  (\"net_regression\", ElasticNet(alpha = .01, l1_ratio = .4))]\n",
        ")\n",
        "\n",
        "print(cross_val_score(net_pipeline, X, y, cv = 5, scoring = 'r2'))\n",
        "print(np.mean(cross_val_score(net_pipeline, X, y, cv = 5, scoring = 'r2')))"
      ],
      "metadata": {
        "colab": {
          "base_uri": "https://localhost:8080/"
        },
        "id": "v479JQYFT4dS",
        "outputId": "73585d7b-ee05-45da-8858-d030e28edef8"
      },
      "execution_count": null,
      "outputs": [
        {
          "output_type": "stream",
          "name": "stdout",
          "text": [
            "[0.89675349 0.92195091 0.79755187 0.78379669 0.91634021]\n",
            "0.8632786333452508\n"
          ]
        }
      ]
    },
    {
      "cell_type": "code",
      "source": [
        "net_pipeline = Pipeline(\n",
        "  [(\"preprocessing\", ct),\n",
        "  (\"net_regression\", ElasticNet(alpha = .01, l1_ratio = .25))]\n",
        ")\n",
        "\n",
        "print(cross_val_score(net_pipeline, X, y, cv = 5, scoring = 'r2'))\n",
        "print(np.mean(cross_val_score(net_pipeline, X, y, cv = 5, scoring = 'r2')))"
      ],
      "metadata": {
        "colab": {
          "base_uri": "https://localhost:8080/"
        },
        "id": "ZVrcRfUmTu1k",
        "outputId": "41d96de0-32bd-4c2f-876a-c7dfc32ec6bc"
      },
      "execution_count": null,
      "outputs": [
        {
          "output_type": "stream",
          "name": "stdout",
          "text": [
            "[0.89626552 0.92238805 0.79739278 0.78294203 0.91659151]\n",
            "0.863115976972448\n"
          ]
        }
      ]
    },
    {
      "cell_type": "code",
      "source": [
        "net_pipeline = Pipeline(\n",
        "  [(\"preprocessing\", ct),\n",
        "  (\"net_regression\", ElasticNet(alpha = .1, l1_ratio = .9))]\n",
        ")\n",
        "\n",
        "print(cross_val_score(net_pipeline, X, y, cv = 5, scoring = 'r2'))\n",
        "print(np.mean(cross_val_score(net_pipeline, X, y, cv = 5, scoring = 'r2')))"
      ],
      "metadata": {
        "colab": {
          "base_uri": "https://localhost:8080/"
        },
        "id": "GseEO1X8ULOo",
        "outputId": "3988dc31-25bf-4181-f18f-c17dd00b640f"
      },
      "execution_count": null,
      "outputs": [
        {
          "output_type": "stream",
          "name": "stdout",
          "text": [
            "[0.89546139 0.92292223 0.79693198 0.7815566  0.91685411]\n",
            "0.8627452619329926\n"
          ]
        }
      ]
    },
    {
      "cell_type": "code",
      "source": [
        "net_pipeline = Pipeline(\n",
        "  [(\"preprocessing\", ct),\n",
        "  (\"net_regression\", ElasticNet(alpha = .1, l1_ratio = .5))]\n",
        ")\n",
        "\n",
        "print(cross_val_score(net_pipeline, X, y, cv = 5, scoring = 'r2'))\n",
        "print(np.mean(cross_val_score(net_pipeline, X, y, cv = 5, scoring = 'r2')))"
      ],
      "metadata": {
        "colab": {
          "base_uri": "https://localhost:8080/"
        },
        "id": "Tt5IOu-WUTW7",
        "outputId": "7aaeb321-bdfa-4cb5-ec27-032e4fcd1d12"
      },
      "execution_count": null,
      "outputs": [
        {
          "output_type": "stream",
          "name": "stdout",
          "text": [
            "[0.88685578 0.92263593 0.78992096 0.76872349 0.91380872]\n",
            "0.8563889762359503\n"
          ]
        }
      ]
    },
    {
      "cell_type": "code",
      "source": [
        "net_pipeline = Pipeline(\n",
        "  [(\"preprocessing\", ct),\n",
        "  (\"net_regression\", ElasticNet(alpha = .1, l1_ratio = .25))]\n",
        ")\n",
        "\n",
        "print(cross_val_score(net_pipeline, X, y, cv = 5, scoring = 'r2'))\n",
        "print(np.mean(cross_val_score(net_pipeline, X, y, cv = 5, scoring = 'r2')))"
      ],
      "metadata": {
        "colab": {
          "base_uri": "https://localhost:8080/"
        },
        "id": "oaeVn2UoUWGQ",
        "outputId": "d501ae6a-9049-4837-835d-1a020448489c"
      },
      "execution_count": null,
      "outputs": [
        {
          "output_type": "stream",
          "name": "stdout",
          "text": [
            "[0.88337032 0.92087376 0.78791151 0.76475035 0.91110037]\n",
            "0.8536012629243084\n"
          ]
        }
      ]
    },
    {
      "cell_type": "code",
      "source": [
        "net_pipeline = Pipeline(\n",
        "  [(\"preprocessing\", ct),\n",
        "  (\"net_regression\", ElasticNet(alpha = .1, l1_ratio = .1))]\n",
        ")\n",
        "\n",
        "print(cross_val_score(net_pipeline, X, y, cv = 5, scoring = 'r2'))\n",
        "print(np.mean(cross_val_score(net_pipeline, X, y, cv = 5, scoring = 'r2')))"
      ],
      "metadata": {
        "colab": {
          "base_uri": "https://localhost:8080/"
        },
        "id": "4mMI3xQgUY-B",
        "outputId": "da44195c-314e-48d1-8ff3-b2c4b1277681"
      },
      "execution_count": null,
      "outputs": [
        {
          "output_type": "stream",
          "name": "stdout",
          "text": [
            "[0.88154593 0.91975921 0.78712297 0.76295714 0.90955755]\n",
            "0.852188558499626\n"
          ]
        }
      ]
    },
    {
      "cell_type": "code",
      "source": [
        "net_pipeline = Pipeline(\n",
        "  [(\"preprocessing\", ct),\n",
        "  (\"net_regression\", ElasticNet(alpha = 1, l1_ratio = .9))]\n",
        ")\n",
        "\n",
        "print(cross_val_score(net_pipeline, X, y, cv = 5, scoring = 'r2'))\n",
        "print(np.mean(cross_val_score(net_pipeline, X, y, cv = 5, scoring = 'r2')))"
      ],
      "metadata": {
        "colab": {
          "base_uri": "https://localhost:8080/"
        },
        "id": "YNXBNgoOUdNX",
        "outputId": "41a3c225-4280-42c8-802b-efd8e666bda6"
      },
      "execution_count": null,
      "outputs": [
        {
          "output_type": "stream",
          "name": "stdout",
          "text": [
            "[0.88038833 0.91900231 0.78668326 0.76191068 0.9085572 ]\n",
            "0.8513083584934382\n"
          ]
        }
      ]
    },
    {
      "cell_type": "code",
      "source": [
        "net_pipeline = Pipeline(\n",
        "  [(\"preprocessing\", ct),\n",
        "  (\"net_regression\", ElasticNet(alpha = 1, l1_ratio = .5))]\n",
        ")\n",
        "\n",
        "print(cross_val_score(net_pipeline, X, y, cv = 5, scoring = 'r2'))\n",
        "print(np.mean(cross_val_score(net_pipeline, X, y, cv = 5, scoring = 'r2')))"
      ],
      "metadata": {
        "colab": {
          "base_uri": "https://localhost:8080/"
        },
        "id": "i_3SxmUlUfdA",
        "outputId": "3dab0938-8388-4e4b-c811-0736d1f67b36"
      },
      "execution_count": null,
      "outputs": [
        {
          "output_type": "stream",
          "name": "stdout",
          "text": [
            "[0.84881153 0.89544437 0.78218137 0.74552196 0.88112237]\n",
            "0.8306163198059204\n"
          ]
        }
      ]
    },
    {
      "cell_type": "code",
      "source": [
        "net_pipeline = Pipeline(\n",
        "  [(\"preprocessing\", ct),\n",
        "  (\"net_regression\", ElasticNet(alpha = 1, l1_ratio = .25))]\n",
        ")\n",
        "\n",
        "print(cross_val_score(net_pipeline, X, y, cv = 5, scoring = 'r2'))\n",
        "print(np.mean(cross_val_score(net_pipeline, X, y, cv = 5, scoring = 'r2')))"
      ],
      "metadata": {
        "colab": {
          "base_uri": "https://localhost:8080/"
        },
        "id": "UE9wFjEGUinZ",
        "outputId": "5b7c1792-162d-4ac9-ad8a-de00ee78eb91"
      },
      "execution_count": null,
      "outputs": [
        {
          "output_type": "stream",
          "name": "stdout",
          "text": [
            "[0.83343264 0.88406276 0.77915019 0.73961742 0.86855425]\n",
            "0.8209634525083622\n"
          ]
        }
      ]
    },
    {
      "cell_type": "code",
      "source": [
        "net_pipeline = Pipeline(\n",
        "  [(\"preprocessing\", ct),\n",
        "  (\"net_regression\", ElasticNet(alpha = 1, l1_ratio = .1))]\n",
        ")\n",
        "\n",
        "print(cross_val_score(net_pipeline, X, y, cv = 5, scoring = 'r2'))\n",
        "print(np.mean(cross_val_score(net_pipeline, X, y, cv = 5, scoring = 'r2')))"
      ],
      "metadata": {
        "colab": {
          "base_uri": "https://localhost:8080/"
        },
        "id": "97SRcWadUkYG",
        "outputId": "f78d9d09-8082-4c34-afab-f55debb2541d"
      },
      "execution_count": null,
      "outputs": [
        {
          "output_type": "stream",
          "name": "stdout",
          "text": [
            "[0.82480667 0.87771502 0.77689093 0.73620154 0.8616636 ]\n",
            "0.8154555502063175\n"
          ]
        }
      ]
    },
    {
      "cell_type": "markdown",
      "source": [
        "After many tries, the best average r^2 we could get was .86335, which was achieved using both ridge and elastic net methods"
      ],
      "metadata": {
        "id": "lnfLN5J7UnBl"
      }
    }
  ]
}